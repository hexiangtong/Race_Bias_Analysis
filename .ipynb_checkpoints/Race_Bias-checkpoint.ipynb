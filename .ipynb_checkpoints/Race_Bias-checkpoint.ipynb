{
 "cells": [
  {
   "cell_type": "code",
   "execution_count": 1,
   "metadata": {},
   "outputs": [],
   "source": [
    "import pandas as pd\n",
    "import numpy as np\n",
    "import matplotlib.pyplot as plt\n",
    "%matplotlib inline"
   ]
  },
  {
   "cell_type": "code",
   "execution_count": 2,
   "metadata": {},
   "outputs": [
    {
     "name": "stderr",
     "output_type": "stream",
     "text": [
      "/Users/zhouyuan57/anaconda3/lib/python3.6/site-packages/IPython/core/interactiveshell.py:2728: DtypeWarning: Columns (19) have mixed types. Specify dtype option on import or set low_memory=False.\n",
      "  interactivity=interactivity, compiler=compiler, result=result)\n"
     ]
    }
   ],
   "source": [
    "data = pd.read_csv('./VT-clean.csv')\n",
    "# data = pd.read_csv('./MA-clean.csv.gz', compression='gzip', low_memory=False)"
   ]
  },
  {
   "cell_type": "code",
   "execution_count": 50,
   "metadata": {},
   "outputs": [],
   "source": [
    "data = data.drop(['stop_time','police_department','violation_raw'],axis=1)"
   ]
  },
  {
   "cell_type": "code",
   "execution_count": 3,
   "metadata": {},
   "outputs": [
    {
     "data": {
      "text/plain": [
       "id                       283285\n",
       "state                    283285\n",
       "stop_date                283285\n",
       "stop_time                283285\n",
       "location_raw             282591\n",
       "county_name              282580\n",
       "county_fips              282580\n",
       "fine_grained_location    282938\n",
       "police_department        283285\n",
       "driver_gender            281573\n",
       "driver_age_raw           282114\n",
       "driver_age               281999\n",
       "driver_race_raw          279301\n",
       "driver_race              278468\n",
       "violation_raw            281107\n",
       "violation                281107\n",
       "search_conducted         283285\n",
       "search_type_raw          281045\n",
       "search_type                3419\n",
       "contraband_found         283251\n",
       "stop_outcome             280960\n",
       "is_arrested              283285\n",
       "officer_id               283273\n",
       "dtype: int64"
      ]
     },
     "execution_count": 3,
     "metadata": {},
     "output_type": "execute_result"
    }
   ],
   "source": [
    "data.count()"
   ]
  },
  {
   "cell_type": "code",
   "execution_count": 4,
   "metadata": {},
   "outputs": [],
   "source": [
    "data['search_type'].fillna('N/A',inplace=True)"
   ]
  },
  {
   "cell_type": "code",
   "execution_count": 53,
   "metadata": {},
   "outputs": [],
   "source": [
    "#data = data.drop(['search_type_raw'],axis=1)"
   ]
  },
  {
   "cell_type": "code",
   "execution_count": 5,
   "metadata": {},
   "outputs": [],
   "source": [
    "data.dropna(inplace=True) #删除每一行的missing value"
   ]
  },
  {
   "cell_type": "markdown",
   "metadata": {},
   "source": [
    "Violation"
   ]
  },
  {
   "cell_type": "code",
   "execution_count": 6,
   "metadata": {},
   "outputs": [
    {
     "data": {
      "text/plain": [
       "Moving Violation              212100\n",
       "Vehicle Equipment              50600\n",
       "Externally Generated Stop       6160\n",
       "Investigatory Stop              3608\n",
       "Suspicion of DWI                 711\n",
       "(Winooski) Be On Look Rqst         1\n",
       "(Winooski) Mtr Vhc Vltn            1\n",
       "Name: violation_raw, dtype: int64"
      ]
     },
     "execution_count": 6,
     "metadata": {},
     "output_type": "execute_result"
    }
   ],
   "source": [
    "data['violation_raw'].value_counts()"
   ]
  },
  {
   "cell_type": "code",
   "execution_count": 14,
   "metadata": {},
   "outputs": [
    {
     "data": {
      "text/plain": [
       "Moving violation      212100\n",
       "Equipment              50600\n",
       "Other                   9768\n",
       "DUI                      711\n",
       "Other (non-mapped)         2\n",
       "Name: violation, dtype: int64"
      ]
     },
     "execution_count": 14,
     "metadata": {},
     "output_type": "execute_result"
    }
   ],
   "source": [
    "data['violation'].value_counts()"
   ]
  },
  {
   "cell_type": "code",
   "execution_count": 16,
   "metadata": {},
   "outputs": [
    {
     "data": {
      "text/plain": [
       "Written Warning         166488\n",
       "Citation                103401\n",
       "Arrest for Violation      3206\n",
       "Warrant Arrest              76\n",
       "Verbal Warning              10\n",
       "Name: stop_outcome, dtype: int64"
      ]
     },
     "execution_count": 16,
     "metadata": {},
     "output_type": "execute_result"
    }
   ],
   "source": [
    "data['stop_outcome'].value_counts()"
   ]
  },
  {
   "cell_type": "markdown",
   "metadata": {},
   "source": [
    "# Stop by Gender"
   ]
  },
  {
   "cell_type": "code",
   "execution_count": 8,
   "metadata": {},
   "outputs": [
    {
     "data": {
      "text/plain": [
       "M    174070\n",
       "F     99111\n",
       "Name: driver_gender, dtype: int64"
      ]
     },
     "execution_count": 8,
     "metadata": {},
     "output_type": "execute_result"
    }
   ],
   "source": [
    "data['driver_gender'].value_counts()"
   ]
  },
  {
   "cell_type": "markdown",
   "metadata": {},
   "source": [
    "stop by race"
   ]
  },
  {
   "cell_type": "code",
   "execution_count": 18,
   "metadata": {},
   "outputs": [
    {
     "data": {
      "text/plain": [
       "White                             261339\n",
       "Black                               5571\n",
       "Asian or Pacific Islander           3446\n",
       "Hispanic                            2562\n",
       "Native Americn or Alaskn Nativ       263\n",
       "Name: driver_race_raw, dtype: int64"
      ]
     },
     "execution_count": 18,
     "metadata": {},
     "output_type": "execute_result"
    }
   ],
   "source": [
    "data['driver_race_raw'].value_counts()"
   ]
  },
  {
   "cell_type": "code",
   "execution_count": 54,
   "metadata": {},
   "outputs": [
    {
     "data": {
      "text/plain": [
       "White       2531342\n",
       "Black        351807\n",
       "Hispanic     338516\n",
       "Asian        102338\n",
       "Other         75612\n",
       "Name: driver_race, dtype: int64"
      ]
     },
     "execution_count": 54,
     "metadata": {},
     "output_type": "execute_result"
    }
   ],
   "source": [
    "data['driver_race'].value_counts()"
   ]
  },
  {
   "cell_type": "markdown",
   "metadata": {},
   "source": [
    "# Stop Frequency by Race and Age"
   ]
  },
  {
   "cell_type": "code",
   "execution_count": 34,
   "metadata": {},
   "outputs": [],
   "source": [
    "data = data[data['driver_race'] != 'Other']"
   ]
  },
  {
   "cell_type": "code",
   "execution_count": 35,
   "metadata": {},
   "outputs": [
    {
     "data": {
      "text/plain": [
       "array(['White', 'Black', 'Asian', 'Hispanic'], dtype=object)"
      ]
     },
     "execution_count": 35,
     "metadata": {},
     "output_type": "execute_result"
    }
   ],
   "source": [
    "data['driver_race'].unique()"
   ]
  },
  {
   "cell_type": "code",
   "execution_count": 36,
   "metadata": {},
   "outputs": [
    {
     "data": {
      "text/plain": [
       "<matplotlib.legend.Legend at 0x10fa9c240>"
      ]
     },
     "execution_count": 36,
     "metadata": {},
     "output_type": "execute_result"
    },
    {
     "data": {
      "image/png": "[encoded data removed]",
      "text/plain": [
       "<matplotlib.figure.Figure at 0x110e122b0>"
      ]
     },
     "metadata": {},
     "output_type": "display_data"
    }
   ],
   "source": [
    "fig, ax = plt.subplots(figsize=(20,8))\n",
    "ax.set_xlim(15,70)\n",
    "for race in data['driver_race'].unique():\n",
    "    s = data[data['driver_race'] == race]['driver_age']\n",
    "    s.plot(kind='kde',ax=ax,label = race)\n",
    "#     s.plot(kind='bar',ax=ax,label = race)\n",
    "ax.legend()"
   ]
  },
  {
   "cell_type": "markdown",
   "metadata": {},
   "source": [
    "# Analyze violation and outcome data"
   ]
  },
  {
   "cell_type": "markdown",
   "metadata": {},
   "source": [
    "# citatoins_per_warning: The ratio of citations to warnings. Higher number means high likelihood of being tickets\n",
    "arrest_rate - Ther percentage of stops that end in an arrest"
   ]
  },
  {
   "cell_type": "code",
   "execution_count": 37,
   "metadata": {},
   "outputs": [],
   "source": [
    "def compute_outcome_stats(df):\n",
    "    n_total = len(df)\n",
    "    n_warnings = len(df[df['stop_outcome'] == 'Written Warning'])\n",
    "    n_citations = len(df[df['stop_outcome'] == 'Citation'])\n",
    "    n_arrests = len(df[df['stop_outcome'] == 'Arrest for Violation'])\n",
    "    citation_per_warning = n_citations / n_warnings\n",
    "    arrest_rate = n_arrests / n_total\n",
    "    return pd.Series(data={'n_warnings':n_warnings, \n",
    "                              'n_total':n_total,\n",
    "                              'n_citations':n_citations,\n",
    "                              'n_arrests':n_arrests, \n",
    "                              'citation_per_warning': citation_per_warning, \n",
    "                              'arrest_rate': arrest_rate})\n",
    "                      \n",
    "    "
   ]
  },
  {
   "cell_type": "code",
   "execution_count": 38,
   "metadata": {},
   "outputs": [
    {
     "data": {
      "text/plain": [
       "arrest_rate                  0.011721\n",
       "citation_per_warning         0.620751\n",
       "n_arrests                 3199.000000\n",
       "n_citations             103270.000000\n",
       "n_total                 272918.000000\n",
       "n_warnings              166363.000000\n",
       "dtype: float64"
      ]
     },
     "execution_count": 38,
     "metadata": {},
     "output_type": "execute_result"
    }
   ],
   "source": [
    "compute_outcome_stats(data)"
   ]
  },
  {
   "cell_type": "markdown",
   "metadata": {},
   "source": [
    "Breakdown by gender"
   ]
  },
  {
   "cell_type": "code",
   "execution_count": 39,
   "metadata": {},
   "outputs": [
    {
     "data": {
      "text/html": [
       "<div>\n",
       "<style scoped>\n",
       "    .dataframe tbody tr th:only-of-type {\n",
       "        vertical-align: middle;\n",
       "    }\n",
       "\n",
       "    .dataframe tbody tr th {\n",
       "        vertical-align: top;\n",
       "    }\n",
       "\n",
       "    .dataframe thead th {\n",
       "        text-align: right;\n",
       "    }\n",
       "</style>\n",
       "<table border=\"1\" class=\"dataframe\">\n",
       "  <thead>\n",
       "    <tr style=\"text-align: right;\">\n",
       "      <th></th>\n",
       "      <th>arrest_rate</th>\n",
       "      <th>citation_per_warning</th>\n",
       "      <th>n_arrests</th>\n",
       "      <th>n_citations</th>\n",
       "      <th>n_total</th>\n",
       "      <th>n_warnings</th>\n",
       "    </tr>\n",
       "    <tr>\n",
       "      <th>driver_gender</th>\n",
       "      <th></th>\n",
       "      <th></th>\n",
       "      <th></th>\n",
       "      <th></th>\n",
       "      <th></th>\n",
       "      <th></th>\n",
       "    </tr>\n",
       "  </thead>\n",
       "  <tbody>\n",
       "    <tr>\n",
       "      <th>F</th>\n",
       "      <td>0.007038</td>\n",
       "      <td>0.548033</td>\n",
       "      <td>697.0</td>\n",
       "      <td>34805.0</td>\n",
       "      <td>99036.0</td>\n",
       "      <td>63509.0</td>\n",
       "    </tr>\n",
       "    <tr>\n",
       "      <th>M</th>\n",
       "      <td>0.014389</td>\n",
       "      <td>0.665652</td>\n",
       "      <td>2502.0</td>\n",
       "      <td>68465.0</td>\n",
       "      <td>173882.0</td>\n",
       "      <td>102854.0</td>\n",
       "    </tr>\n",
       "  </tbody>\n",
       "</table>\n",
       "</div>"
      ],
      "text/plain": [
       "               arrest_rate  citation_per_warning  n_arrests  n_citations  \\\n",
       "driver_gender                                                              \n",
       "F                 0.007038              0.548033      697.0      34805.0   \n",
       "M                 0.014389              0.665652     2502.0      68465.0   \n",
       "\n",
       "                n_total  n_warnings  \n",
       "driver_gender                        \n",
       "F               99036.0     63509.0  \n",
       "M              173882.0    102854.0  "
      ]
     },
     "execution_count": 39,
     "metadata": {},
     "output_type": "execute_result"
    }
   ],
   "source": [
    "data.groupby('driver_gender').apply(compute_outcome_stats)"
   ]
  },
  {
   "cell_type": "code",
   "execution_count": 40,
   "metadata": {},
   "outputs": [
    {
     "data": {
      "text/plain": [
       "<matplotlib.axes._subplots.AxesSubplot at 0x10f345748>"
      ]
     },
     "execution_count": 40,
     "metadata": {},
     "output_type": "execute_result"
    },
    {
     "data": {
      "image/png": "[encoded data removed]",
      "text/plain": [
       "<matplotlib.figure.Figure at 0x10fa1c5f8>"
      ]
     },
     "metadata": {},
     "output_type": "display_data"
    }
   ],
   "source": [
    "gender_agg = data.groupby('driver_gender').apply(compute_outcome_stats)\n",
    "fig, axes = plt.subplots(nrows=2, ncols=1, figsize = (12,8))\n",
    "gender_agg['citation_per_warning'].plot.barh(ax = axes[0], figsize = (12,8), title='Citation rate by Gener')\n",
    "gender_agg['arrest_rate'].plot.barh(ax = axes[1], figsize = (12, 8), title = 'Arrest Rate by Gender')"
   ]
  },
  {
   "cell_type": "code",
   "execution_count": 41,
   "metadata": {},
   "outputs": [
    {
     "data": {
      "text/html": [
       "<div>\n",
       "<style scoped>\n",
       "    .dataframe tbody tr th:only-of-type {\n",
       "        vertical-align: middle;\n",
       "    }\n",
       "\n",
       "    .dataframe tbody tr th {\n",
       "        vertical-align: top;\n",
       "    }\n",
       "\n",
       "    .dataframe thead th {\n",
       "        text-align: right;\n",
       "    }\n",
       "</style>\n",
       "<table border=\"1\" class=\"dataframe\">\n",
       "  <thead>\n",
       "    <tr style=\"text-align: right;\">\n",
       "      <th></th>\n",
       "      <th></th>\n",
       "      <th>arrest_rate</th>\n",
       "      <th>citation_per_warning</th>\n",
       "      <th>n_arrests</th>\n",
       "      <th>n_citations</th>\n",
       "      <th>n_total</th>\n",
       "      <th>n_warnings</th>\n",
       "    </tr>\n",
       "    <tr>\n",
       "      <th>driver_race</th>\n",
       "      <th>violation</th>\n",
       "      <th></th>\n",
       "      <th></th>\n",
       "      <th></th>\n",
       "      <th></th>\n",
       "      <th></th>\n",
       "      <th></th>\n",
       "    </tr>\n",
       "  </thead>\n",
       "  <tbody>\n",
       "    <tr>\n",
       "      <th rowspan=\"4\" valign=\"top\">Asian</th>\n",
       "      <th>DUI</th>\n",
       "      <td>0.200000</td>\n",
       "      <td>0.333333</td>\n",
       "      <td>2.0</td>\n",
       "      <td>2.0</td>\n",
       "      <td>10.0</td>\n",
       "      <td>6.0</td>\n",
       "    </tr>\n",
       "    <tr>\n",
       "      <th>Equipment</th>\n",
       "      <td>0.006270</td>\n",
       "      <td>0.132143</td>\n",
       "      <td>2.0</td>\n",
       "      <td>37.0</td>\n",
       "      <td>319.0</td>\n",
       "      <td>280.0</td>\n",
       "    </tr>\n",
       "    <tr>\n",
       "      <th>Moving violation</th>\n",
       "      <td>0.005563</td>\n",
       "      <td>1.183190</td>\n",
       "      <td>17.0</td>\n",
       "      <td>1647.0</td>\n",
       "      <td>3056.0</td>\n",
       "      <td>1392.0</td>\n",
       "    </tr>\n",
       "    <tr>\n",
       "      <th>Other</th>\n",
       "      <td>0.016393</td>\n",
       "      <td>0.875000</td>\n",
       "      <td>1.0</td>\n",
       "      <td>28.0</td>\n",
       "      <td>61.0</td>\n",
       "      <td>32.0</td>\n",
       "    </tr>\n",
       "    <tr>\n",
       "      <th rowspan=\"4\" valign=\"top\">Black</th>\n",
       "      <th>DUI</th>\n",
       "      <td>0.200000</td>\n",
       "      <td>0.142857</td>\n",
       "      <td>2.0</td>\n",
       "      <td>1.0</td>\n",
       "      <td>10.0</td>\n",
       "      <td>7.0</td>\n",
       "    </tr>\n",
       "    <tr>\n",
       "      <th>Equipment</th>\n",
       "      <td>0.029181</td>\n",
       "      <td>0.220651</td>\n",
       "      <td>26.0</td>\n",
       "      <td>156.0</td>\n",
       "      <td>891.0</td>\n",
       "      <td>707.0</td>\n",
       "    </tr>\n",
       "    <tr>\n",
       "      <th>Moving violation</th>\n",
       "      <td>0.016052</td>\n",
       "      <td>0.942385</td>\n",
       "      <td>71.0</td>\n",
       "      <td>2110.0</td>\n",
       "      <td>4423.0</td>\n",
       "      <td>2239.0</td>\n",
       "    </tr>\n",
       "    <tr>\n",
       "      <th>Other</th>\n",
       "      <td>0.048583</td>\n",
       "      <td>2.205479</td>\n",
       "      <td>12.0</td>\n",
       "      <td>161.0</td>\n",
       "      <td>247.0</td>\n",
       "      <td>73.0</td>\n",
       "    </tr>\n",
       "    <tr>\n",
       "      <th rowspan=\"4\" valign=\"top\">Hispanic</th>\n",
       "      <th>DUI</th>\n",
       "      <td>0.200000</td>\n",
       "      <td>3.000000</td>\n",
       "      <td>2.0</td>\n",
       "      <td>6.0</td>\n",
       "      <td>10.0</td>\n",
       "      <td>2.0</td>\n",
       "    </tr>\n",
       "    <tr>\n",
       "      <th>Equipment</th>\n",
       "      <td>0.023560</td>\n",
       "      <td>0.187898</td>\n",
       "      <td>9.0</td>\n",
       "      <td>59.0</td>\n",
       "      <td>382.0</td>\n",
       "      <td>314.0</td>\n",
       "    </tr>\n",
       "    <tr>\n",
       "      <th>Moving violation</th>\n",
       "      <td>0.012422</td>\n",
       "      <td>1.058824</td>\n",
       "      <td>26.0</td>\n",
       "      <td>1062.0</td>\n",
       "      <td>2093.0</td>\n",
       "      <td>1003.0</td>\n",
       "    </tr>\n",
       "    <tr>\n",
       "      <th>Other</th>\n",
       "      <td>0.064935</td>\n",
       "      <td>1.366667</td>\n",
       "      <td>5.0</td>\n",
       "      <td>41.0</td>\n",
       "      <td>77.0</td>\n",
       "      <td>30.0</td>\n",
       "    </tr>\n",
       "    <tr>\n",
       "      <th rowspan=\"5\" valign=\"top\">White</th>\n",
       "      <th>DUI</th>\n",
       "      <td>0.192364</td>\n",
       "      <td>0.455026</td>\n",
       "      <td>131.0</td>\n",
       "      <td>172.0</td>\n",
       "      <td>681.0</td>\n",
       "      <td>378.0</td>\n",
       "    </tr>\n",
       "    <tr>\n",
       "      <th>Equipment</th>\n",
       "      <td>0.012233</td>\n",
       "      <td>0.190486</td>\n",
       "      <td>599.0</td>\n",
       "      <td>7736.0</td>\n",
       "      <td>48965.0</td>\n",
       "      <td>40612.0</td>\n",
       "    </tr>\n",
       "    <tr>\n",
       "      <th>Moving violation</th>\n",
       "      <td>0.008635</td>\n",
       "      <td>0.732720</td>\n",
       "      <td>1747.0</td>\n",
       "      <td>84797.0</td>\n",
       "      <td>202321.0</td>\n",
       "      <td>115729.0</td>\n",
       "    </tr>\n",
       "    <tr>\n",
       "      <th>Other</th>\n",
       "      <td>0.058378</td>\n",
       "      <td>1.476672</td>\n",
       "      <td>547.0</td>\n",
       "      <td>5254.0</td>\n",
       "      <td>9370.0</td>\n",
       "      <td>3558.0</td>\n",
       "    </tr>\n",
       "    <tr>\n",
       "      <th>Other (non-mapped)</th>\n",
       "      <td>0.000000</td>\n",
       "      <td>1.000000</td>\n",
       "      <td>0.0</td>\n",
       "      <td>1.0</td>\n",
       "      <td>2.0</td>\n",
       "      <td>1.0</td>\n",
       "    </tr>\n",
       "  </tbody>\n",
       "</table>\n",
       "</div>"
      ],
      "text/plain": [
       "                                arrest_rate  citation_per_warning  n_arrests  \\\n",
       "driver_race violation                                                          \n",
       "Asian       DUI                    0.200000              0.333333        2.0   \n",
       "            Equipment              0.006270              0.132143        2.0   \n",
       "            Moving violation       0.005563              1.183190       17.0   \n",
       "            Other                  0.016393              0.875000        1.0   \n",
       "Black       DUI                    0.200000              0.142857        2.0   \n",
       "            Equipment              0.029181              0.220651       26.0   \n",
       "            Moving violation       0.016052              0.942385       71.0   \n",
       "            Other                  0.048583              2.205479       12.0   \n",
       "Hispanic    DUI                    0.200000              3.000000        2.0   \n",
       "            Equipment              0.023560              0.187898        9.0   \n",
       "            Moving violation       0.012422              1.058824       26.0   \n",
       "            Other                  0.064935              1.366667        5.0   \n",
       "White       DUI                    0.192364              0.455026      131.0   \n",
       "            Equipment              0.012233              0.190486      599.0   \n",
       "            Moving violation       0.008635              0.732720     1747.0   \n",
       "            Other                  0.058378              1.476672      547.0   \n",
       "            Other (non-mapped)     0.000000              1.000000        0.0   \n",
       "\n",
       "                                n_citations   n_total  n_warnings  \n",
       "driver_race violation                                              \n",
       "Asian       DUI                         2.0      10.0         6.0  \n",
       "            Equipment                  37.0     319.0       280.0  \n",
       "            Moving violation         1647.0    3056.0      1392.0  \n",
       "            Other                      28.0      61.0        32.0  \n",
       "Black       DUI                         1.0      10.0         7.0  \n",
       "            Equipment                 156.0     891.0       707.0  \n",
       "            Moving violation         2110.0    4423.0      2239.0  \n",
       "            Other                     161.0     247.0        73.0  \n",
       "Hispanic    DUI                         6.0      10.0         2.0  \n",
       "            Equipment                  59.0     382.0       314.0  \n",
       "            Moving violation         1062.0    2093.0      1003.0  \n",
       "            Other                      41.0      77.0        30.0  \n",
       "White       DUI                       172.0     681.0       378.0  \n",
       "            Equipment                7736.0   48965.0     40612.0  \n",
       "            Moving violation        84797.0  202321.0    115729.0  \n",
       "            Other                    5254.0    9370.0      3558.0  \n",
       "            Other (non-mapped)          1.0       2.0         1.0  "
      ]
     },
     "execution_count": 41,
     "metadata": {},
     "output_type": "execute_result"
    }
   ],
   "source": [
    "data.groupby(['driver_race','violation']).apply(compute_outcome_stats)"
   ]
  },
  {
   "cell_type": "code",
   "execution_count": 42,
   "metadata": {},
   "outputs": [
    {
     "data": {
      "text/plain": [
       "<matplotlib.axes._subplots.AxesSubplot at 0x10f779a90>"
      ]
     },
     "execution_count": 42,
     "metadata": {},
     "output_type": "execute_result"
    },
    {
     "data": {
      "image/png": "[encoded data removed]",
      "text/plain": [
       "<matplotlib.figure.Figure at 0x1130e2ef0>"
      ]
     },
     "metadata": {},
     "output_type": "display_data"
    }
   ],
   "source": [
    "race_agg = data.groupby('driver_race').apply(compute_outcome_stats)\n",
    "fig, axes = plt.subplots(nrows=2, ncols=1, figsize = (12,8))\n",
    "race_agg['citation_per_warning'].plot.barh(ax = axes[1], figsize = (12,8), title='Citation rate by Race')\n",
    "race_agg['arrest_rate'].plot.barh(ax = axes[0], figsize = (12, 8), title = 'Arrest Rate by Race')"
   ]
  },
  {
   "cell_type": "code",
   "execution_count": 43,
   "metadata": {},
   "outputs": [
    {
     "data": {
      "text/html": [
       "<div>\n",
       "<style scoped>\n",
       "    .dataframe tbody tr th:only-of-type {\n",
       "        vertical-align: middle;\n",
       "    }\n",
       "\n",
       "    .dataframe tbody tr th {\n",
       "        vertical-align: top;\n",
       "    }\n",
       "\n",
       "    .dataframe thead th {\n",
       "        text-align: right;\n",
       "    }\n",
       "</style>\n",
       "<table border=\"1\" class=\"dataframe\">\n",
       "  <thead>\n",
       "    <tr style=\"text-align: right;\">\n",
       "      <th></th>\n",
       "      <th>arrest_rate</th>\n",
       "      <th>citation_per_warning</th>\n",
       "      <th>n_arrests</th>\n",
       "      <th>n_citations</th>\n",
       "      <th>n_total</th>\n",
       "      <th>n_warnings</th>\n",
       "    </tr>\n",
       "    <tr>\n",
       "      <th>driver_race</th>\n",
       "      <th></th>\n",
       "      <th></th>\n",
       "      <th></th>\n",
       "      <th></th>\n",
       "      <th></th>\n",
       "      <th></th>\n",
       "    </tr>\n",
       "  </thead>\n",
       "  <tbody>\n",
       "    <tr>\n",
       "      <th>Asian</th>\n",
       "      <td>0.006384</td>\n",
       "      <td>1.002339</td>\n",
       "      <td>22.0</td>\n",
       "      <td>1714.0</td>\n",
       "      <td>3446.0</td>\n",
       "      <td>1710.0</td>\n",
       "    </tr>\n",
       "    <tr>\n",
       "      <th>Black</th>\n",
       "      <td>0.019925</td>\n",
       "      <td>0.802379</td>\n",
       "      <td>111.0</td>\n",
       "      <td>2428.0</td>\n",
       "      <td>5571.0</td>\n",
       "      <td>3026.0</td>\n",
       "    </tr>\n",
       "    <tr>\n",
       "      <th>Hispanic</th>\n",
       "      <td>0.016393</td>\n",
       "      <td>0.865827</td>\n",
       "      <td>42.0</td>\n",
       "      <td>1168.0</td>\n",
       "      <td>2562.0</td>\n",
       "      <td>1349.0</td>\n",
       "    </tr>\n",
       "    <tr>\n",
       "      <th>White</th>\n",
       "      <td>0.011571</td>\n",
       "      <td>0.611188</td>\n",
       "      <td>3024.0</td>\n",
       "      <td>97960.0</td>\n",
       "      <td>261339.0</td>\n",
       "      <td>160278.0</td>\n",
       "    </tr>\n",
       "  </tbody>\n",
       "</table>\n",
       "</div>"
      ],
      "text/plain": [
       "             arrest_rate  citation_per_warning  n_arrests  n_citations  \\\n",
       "driver_race                                                              \n",
       "Asian           0.006384              1.002339       22.0       1714.0   \n",
       "Black           0.019925              0.802379      111.0       2428.0   \n",
       "Hispanic        0.016393              0.865827       42.0       1168.0   \n",
       "White           0.011571              0.611188     3024.0      97960.0   \n",
       "\n",
       "              n_total  n_warnings  \n",
       "driver_race                        \n",
       "Asian          3446.0      1710.0  \n",
       "Black          5571.0      3026.0  \n",
       "Hispanic       2562.0      1349.0  \n",
       "White        261339.0    160278.0  "
      ]
     },
     "execution_count": 43,
     "metadata": {},
     "output_type": "execute_result"
    }
   ],
   "source": [
    "race_agg"
   ]
  },
  {
   "cell_type": "code",
   "execution_count": 44,
   "metadata": {},
   "outputs": [],
   "source": [
    "data['is_white'] = data['driver_race'] == 'White'"
   ]
  },
  {
   "cell_type": "code",
   "execution_count": 45,
   "metadata": {},
   "outputs": [
    {
     "data": {
      "text/plain": [
       "True     261339\n",
       "False     11579\n",
       "Name: is_white, dtype: int64"
      ]
     },
     "execution_count": 45,
     "metadata": {},
     "output_type": "execute_result"
    }
   ],
   "source": [
    "data['is_white'].value_counts()"
   ]
  },
  {
   "cell_type": "code",
   "execution_count": 46,
   "metadata": {},
   "outputs": [],
   "source": [
    "#remove violation with too few data points\n",
    "data_filtered = data[~data['violation'].isin(['Other (non-mapped)','DUI'])]"
   ]
  },
  {
   "cell_type": "code",
   "execution_count": 47,
   "metadata": {},
   "outputs": [
    {
     "data": {
      "text/html": [
       "<div>\n",
       "<style scoped>\n",
       "    .dataframe tbody tr th:only-of-type {\n",
       "        vertical-align: middle;\n",
       "    }\n",
       "\n",
       "    .dataframe tbody tr th {\n",
       "        vertical-align: top;\n",
       "    }\n",
       "\n",
       "    .dataframe thead th {\n",
       "        text-align: right;\n",
       "    }\n",
       "</style>\n",
       "<table border=\"1\" class=\"dataframe\">\n",
       "  <thead>\n",
       "    <tr style=\"text-align: right;\">\n",
       "      <th></th>\n",
       "      <th></th>\n",
       "      <th>arrest_rate</th>\n",
       "      <th>citation_per_warning</th>\n",
       "      <th>n_arrests</th>\n",
       "      <th>n_citations</th>\n",
       "      <th>n_total</th>\n",
       "      <th>n_warnings</th>\n",
       "    </tr>\n",
       "    <tr>\n",
       "      <th>is_white</th>\n",
       "      <th>violation</th>\n",
       "      <th></th>\n",
       "      <th></th>\n",
       "      <th></th>\n",
       "      <th></th>\n",
       "      <th></th>\n",
       "      <th></th>\n",
       "    </tr>\n",
       "  </thead>\n",
       "  <tbody>\n",
       "    <tr>\n",
       "      <th rowspan=\"3\" valign=\"top\">False</th>\n",
       "      <th>Equipment</th>\n",
       "      <td>0.023241</td>\n",
       "      <td>0.193697</td>\n",
       "      <td>37.0</td>\n",
       "      <td>252.0</td>\n",
       "      <td>1592.0</td>\n",
       "      <td>1301.0</td>\n",
       "    </tr>\n",
       "    <tr>\n",
       "      <th>Moving violation</th>\n",
       "      <td>0.011910</td>\n",
       "      <td>1.039922</td>\n",
       "      <td>114.0</td>\n",
       "      <td>4819.0</td>\n",
       "      <td>9572.0</td>\n",
       "      <td>4634.0</td>\n",
       "    </tr>\n",
       "    <tr>\n",
       "      <th>Other</th>\n",
       "      <td>0.046753</td>\n",
       "      <td>1.703704</td>\n",
       "      <td>18.0</td>\n",
       "      <td>230.0</td>\n",
       "      <td>385.0</td>\n",
       "      <td>135.0</td>\n",
       "    </tr>\n",
       "    <tr>\n",
       "      <th rowspan=\"3\" valign=\"top\">True</th>\n",
       "      <th>Equipment</th>\n",
       "      <td>0.012233</td>\n",
       "      <td>0.190486</td>\n",
       "      <td>599.0</td>\n",
       "      <td>7736.0</td>\n",
       "      <td>48965.0</td>\n",
       "      <td>40612.0</td>\n",
       "    </tr>\n",
       "    <tr>\n",
       "      <th>Moving violation</th>\n",
       "      <td>0.008635</td>\n",
       "      <td>0.732720</td>\n",
       "      <td>1747.0</td>\n",
       "      <td>84797.0</td>\n",
       "      <td>202321.0</td>\n",
       "      <td>115729.0</td>\n",
       "    </tr>\n",
       "    <tr>\n",
       "      <th>Other</th>\n",
       "      <td>0.058378</td>\n",
       "      <td>1.476672</td>\n",
       "      <td>547.0</td>\n",
       "      <td>5254.0</td>\n",
       "      <td>9370.0</td>\n",
       "      <td>3558.0</td>\n",
       "    </tr>\n",
       "  </tbody>\n",
       "</table>\n",
       "</div>"
      ],
      "text/plain": [
       "                           arrest_rate  citation_per_warning  n_arrests  \\\n",
       "is_white violation                                                        \n",
       "False    Equipment            0.023241              0.193697       37.0   \n",
       "         Moving violation     0.011910              1.039922      114.0   \n",
       "         Other                0.046753              1.703704       18.0   \n",
       "True     Equipment            0.012233              0.190486      599.0   \n",
       "         Moving violation     0.008635              0.732720     1747.0   \n",
       "         Other                0.058378              1.476672      547.0   \n",
       "\n",
       "                           n_citations   n_total  n_warnings  \n",
       "is_white violation                                            \n",
       "False    Equipment               252.0    1592.0      1301.0  \n",
       "         Moving violation       4819.0    9572.0      4634.0  \n",
       "         Other                   230.0     385.0       135.0  \n",
       "True     Equipment              7736.0   48965.0     40612.0  \n",
       "         Moving violation      84797.0  202321.0    115729.0  \n",
       "         Other                  5254.0    9370.0      3558.0  "
      ]
     },
     "execution_count": 47,
     "metadata": {},
     "output_type": "execute_result"
    }
   ],
   "source": [
    "data_filtered.groupby(['is_white','violation']).apply(compute_outcome_stats)"
   ]
  },
  {
   "cell_type": "markdown",
   "metadata": {},
   "source": [
    "# visualize Stop outcome and violation results"
   ]
  },
  {
   "cell_type": "code",
   "execution_count": 48,
   "metadata": {},
   "outputs": [
    {
     "data": {
      "text/plain": [
       "<matplotlib.axes._subplots.AxesSubplot at 0x10f3a8518>"
      ]
     },
     "execution_count": 48,
     "metadata": {},
     "output_type": "execute_result"
    },
    {
     "data": {
      "image/png": "[encoded data removed]",
      "text/plain": [
       "<matplotlib.figure.Figure at 0x10fce8d68>"
      ]
     },
     "metadata": {},
     "output_type": "display_data"
    }
   ],
   "source": [
    "race_stats = data_filtered.groupby(['violation','driver_race']).apply(compute_outcome_stats).unstack()\n",
    "fig, axes = plt.subplots(nrows=1, ncols=2, figsize = (12,8))\n",
    "race_stats.plot.bar(y='arrest_rate', ax = axes[0], figsize = (12,8), title='Arrest Rate by Race and Violation')\n",
    "race_stats.plot.bar(y='citation_per_warning', ax = axes[1], figsize = (12, 8), title = 'Citation per warning by race and violation')"
   ]
  },
  {
   "cell_type": "code",
   "execution_count": 49,
   "metadata": {},
   "outputs": [
    {
     "data": {
      "text/plain": [
       "<matplotlib.axes._subplots.AxesSubplot at 0x10f7063c8>"
      ]
     },
     "execution_count": 49,
     "metadata": {},
     "output_type": "execute_result"
    },
    {
     "data": {
      "image/png": "[encoded data removed]",
      "text/plain": [
       "<matplotlib.figure.Figure at 0x10f9530b8>"
      ]
     },
     "metadata": {},
     "output_type": "display_data"
    }
   ],
   "source": [
    "gender_stats = data_filtered.groupby(['violation','driver_gender']).apply(compute_outcome_stats).unstack()\n",
    "fig, axes = plt.subplots(nrows=1, ncols=2, figsize = (12,8))\n",
    "gender_stats.plot.bar(y='arrest_rate', ax = axes[0], figsize = (12,8), title='Arrest Rate by Gender and Violation')\n",
    "gender_stats.plot.bar(y='citation_per_warning', ax = axes[1], figsize = (12, 8), title = 'Citation per warning by Gender and violation')"
   ]
  },
  {
   "cell_type": "code",
   "execution_count": 50,
   "metadata": {},
   "outputs": [
    {
     "data": {
      "text/plain": [
       "False    269664\n",
       "True       3254\n",
       "Name: search_conducted, dtype: int64"
      ]
     },
     "execution_count": 50,
     "metadata": {},
     "output_type": "execute_result"
    }
   ],
   "source": [
    "data['search_conducted'].value_counts()"
   ]
  },
  {
   "cell_type": "code",
   "execution_count": 51,
   "metadata": {},
   "outputs": [
    {
     "data": {
      "text/plain": [
       "False    270325\n",
       "True       2593\n",
       "Name: contraband_found, dtype: int64"
      ]
     },
     "execution_count": 51,
     "metadata": {},
     "output_type": "execute_result"
    }
   ],
   "source": [
    "data['contraband_found'].value_counts()"
   ]
  },
  {
   "cell_type": "code",
   "execution_count": 52,
   "metadata": {},
   "outputs": [],
   "source": [
    "def compute_search_stats(df):\n",
    "    search_conducted = df['search_conducted']\n",
    "    contraband_found = df['contraband_found']\n",
    "    n_stops = len(search_conducted)\n",
    "    n_searches = sum(search_conducted)\n",
    "    n_hits = sum(contraband_found)\n",
    "    \n",
    "    if n_stops < 50:\n",
    "        search_rate = None\n",
    "    else:\n",
    "        search_rate = n_searches / n_stops\n",
    "    \n",
    "    if n_searches < 5:\n",
    "        hit_rate = None\n",
    "    else:\n",
    "        hit_rate = n_hits / n_searches\n",
    "    \n",
    "    return(pd.Series(data = { 'n_stops':n_stops,\n",
    "                              'n_searches':n_searches,\n",
    "                              'n_hits':n_hits, \n",
    "                              'search_rate': search_rate, \n",
    "                              'hit_rate': hit_rate}))\n",
    "                      "
   ]
  },
  {
   "cell_type": "code",
   "execution_count": 53,
   "metadata": {},
   "outputs": [
    {
     "data": {
      "text/html": [
       "<div>\n",
       "<style scoped>\n",
       "    .dataframe tbody tr th:only-of-type {\n",
       "        vertical-align: middle;\n",
       "    }\n",
       "\n",
       "    .dataframe tbody tr th {\n",
       "        vertical-align: top;\n",
       "    }\n",
       "\n",
       "    .dataframe thead th {\n",
       "        text-align: right;\n",
       "    }\n",
       "</style>\n",
       "<table border=\"1\" class=\"dataframe\">\n",
       "  <thead>\n",
       "    <tr style=\"text-align: right;\">\n",
       "      <th></th>\n",
       "      <th>hit_rate</th>\n",
       "      <th>n_hits</th>\n",
       "      <th>n_searches</th>\n",
       "      <th>n_stops</th>\n",
       "      <th>search_rate</th>\n",
       "    </tr>\n",
       "    <tr>\n",
       "      <th>driver_gender</th>\n",
       "      <th></th>\n",
       "      <th></th>\n",
       "      <th></th>\n",
       "      <th></th>\n",
       "      <th></th>\n",
       "    </tr>\n",
       "  </thead>\n",
       "  <tbody>\n",
       "    <tr>\n",
       "      <th>F</th>\n",
       "      <td>0.789392</td>\n",
       "      <td>506.0</td>\n",
       "      <td>641.0</td>\n",
       "      <td>99036.0</td>\n",
       "      <td>0.006472</td>\n",
       "    </tr>\n",
       "    <tr>\n",
       "      <th>M</th>\n",
       "      <td>0.798699</td>\n",
       "      <td>2087.0</td>\n",
       "      <td>2613.0</td>\n",
       "      <td>173882.0</td>\n",
       "      <td>0.015027</td>\n",
       "    </tr>\n",
       "  </tbody>\n",
       "</table>\n",
       "</div>"
      ],
      "text/plain": [
       "               hit_rate  n_hits  n_searches   n_stops  search_rate\n",
       "driver_gender                                                     \n",
       "F              0.789392   506.0       641.0   99036.0     0.006472\n",
       "M              0.798699  2087.0      2613.0  173882.0     0.015027"
      ]
     },
     "execution_count": 53,
     "metadata": {},
     "output_type": "execute_result"
    }
   ],
   "source": [
    "data.groupby('driver_gender').apply(compute_search_stats)"
   ]
  },
  {
   "cell_type": "markdown",
   "metadata": {},
   "source": [
    "# Search stats by race"
   ]
  },
  {
   "cell_type": "code",
   "execution_count": 54,
   "metadata": {},
   "outputs": [
    {
     "data": {
      "text/html": [
       "<div>\n",
       "<style scoped>\n",
       "    .dataframe tbody tr th:only-of-type {\n",
       "        vertical-align: middle;\n",
       "    }\n",
       "\n",
       "    .dataframe tbody tr th {\n",
       "        vertical-align: top;\n",
       "    }\n",
       "\n",
       "    .dataframe thead th {\n",
       "        text-align: right;\n",
       "    }\n",
       "</style>\n",
       "<table border=\"1\" class=\"dataframe\">\n",
       "  <thead>\n",
       "    <tr style=\"text-align: right;\">\n",
       "      <th></th>\n",
       "      <th>hit_rate</th>\n",
       "      <th>n_hits</th>\n",
       "      <th>n_searches</th>\n",
       "      <th>n_stops</th>\n",
       "      <th>search_rate</th>\n",
       "    </tr>\n",
       "    <tr>\n",
       "      <th>driver_race</th>\n",
       "      <th></th>\n",
       "      <th></th>\n",
       "      <th></th>\n",
       "      <th></th>\n",
       "      <th></th>\n",
       "    </tr>\n",
       "  </thead>\n",
       "  <tbody>\n",
       "    <tr>\n",
       "      <th>Asian</th>\n",
       "      <td>0.777778</td>\n",
       "      <td>21.0</td>\n",
       "      <td>27.0</td>\n",
       "      <td>3436.0</td>\n",
       "      <td>0.007858</td>\n",
       "    </tr>\n",
       "    <tr>\n",
       "      <th>Black</th>\n",
       "      <td>0.685512</td>\n",
       "      <td>194.0</td>\n",
       "      <td>283.0</td>\n",
       "      <td>5561.0</td>\n",
       "      <td>0.050890</td>\n",
       "    </tr>\n",
       "    <tr>\n",
       "      <th>Hispanic</th>\n",
       "      <td>0.644231</td>\n",
       "      <td>67.0</td>\n",
       "      <td>104.0</td>\n",
       "      <td>2552.0</td>\n",
       "      <td>0.040752</td>\n",
       "    </tr>\n",
       "    <tr>\n",
       "      <th>White</th>\n",
       "      <td>0.815280</td>\n",
       "      <td>2273.0</td>\n",
       "      <td>2788.0</td>\n",
       "      <td>260656.0</td>\n",
       "      <td>0.010696</td>\n",
       "    </tr>\n",
       "  </tbody>\n",
       "</table>\n",
       "</div>"
      ],
      "text/plain": [
       "             hit_rate  n_hits  n_searches   n_stops  search_rate\n",
       "driver_race                                                     \n",
       "Asian        0.777778    21.0        27.0    3436.0     0.007858\n",
       "Black        0.685512   194.0       283.0    5561.0     0.050890\n",
       "Hispanic     0.644231    67.0       104.0    2552.0     0.040752\n",
       "White        0.815280  2273.0      2788.0  260656.0     0.010696"
      ]
     },
     "execution_count": 54,
     "metadata": {},
     "output_type": "execute_result"
    }
   ],
   "source": [
    "data_filtered.groupby('driver_race').apply(compute_search_stats)"
   ]
  },
  {
   "cell_type": "markdown",
   "metadata": {},
   "source": [
    "Black drivers are 500% more likely to be searched than white drivers during a traffic stop, but 13% less likely to be caught with contrband i nthe event of\n",
    "a search"
   ]
  },
  {
   "cell_type": "markdown",
   "metadata": {},
   "source": [
    "Hispanic drivers are 400% more likely to be searched than white drivers during a traffic stop, but are 17% less likely to be caught with\n",
    "contraband in the event of a search"
   ]
  },
  {
   "cell_type": "markdown",
   "metadata": {},
   "source": [
    "# search stats by age"
   ]
  },
  {
   "cell_type": "code",
   "execution_count": 26,
   "metadata": {},
   "outputs": [],
   "source": [
    "age_groups = pd.cut(data['driver_age'], np.arange(15,70,5))"
   ]
  },
  {
   "cell_type": "code",
   "execution_count": 27,
   "metadata": {},
   "outputs": [
    {
     "data": {
      "text/plain": [
       "0    (20, 25]\n",
       "3    (15, 20]\n",
       "4    (15, 20]\n",
       "5    (15, 20]\n",
       "8    (20, 25]\n",
       "Name: driver_age, dtype: category\n",
       "Categories (10, interval[int64]): [(15, 20] < (20, 25] < (25, 30] < (30, 35] ... (45, 50] < (50, 55] < (55, 60] < (60, 65]]"
      ]
     },
     "execution_count": 27,
     "metadata": {},
     "output_type": "execute_result"
    }
   ],
   "source": [
    "age_groups.head()"
   ]
  },
  {
   "cell_type": "code",
   "execution_count": 29,
   "metadata": {},
   "outputs": [
    {
     "data": {
      "text/html": [
       "<div>\n",
       "<style scoped>\n",
       "    .dataframe tbody tr th:only-of-type {\n",
       "        vertical-align: middle;\n",
       "    }\n",
       "\n",
       "    .dataframe tbody tr th {\n",
       "        vertical-align: top;\n",
       "    }\n",
       "\n",
       "    .dataframe thead th {\n",
       "        text-align: right;\n",
       "    }\n",
       "</style>\n",
       "<table border=\"1\" class=\"dataframe\">\n",
       "  <thead>\n",
       "    <tr style=\"text-align: right;\">\n",
       "      <th></th>\n",
       "      <th>arrest_rate</th>\n",
       "      <th>citation_per_warning</th>\n",
       "      <th>n_arrests</th>\n",
       "      <th>n_citations</th>\n",
       "      <th>n_total</th>\n",
       "      <th>n_warnings</th>\n",
       "    </tr>\n",
       "    <tr>\n",
       "      <th>driver_age</th>\n",
       "      <th></th>\n",
       "      <th></th>\n",
       "      <th></th>\n",
       "      <th></th>\n",
       "      <th></th>\n",
       "      <th></th>\n",
       "    </tr>\n",
       "  </thead>\n",
       "  <tbody>\n",
       "    <tr>\n",
       "      <th>(15, 20]</th>\n",
       "      <td>0.011452</td>\n",
       "      <td>0.758811</td>\n",
       "      <td>314.0</td>\n",
       "      <td>11691.0</td>\n",
       "      <td>27418.0</td>\n",
       "      <td>15407.0</td>\n",
       "    </tr>\n",
       "    <tr>\n",
       "      <th>(20, 25]</th>\n",
       "      <td>0.016730</td>\n",
       "      <td>0.779758</td>\n",
       "      <td>724.0</td>\n",
       "      <td>18637.0</td>\n",
       "      <td>43275.0</td>\n",
       "      <td>23901.0</td>\n",
       "    </tr>\n",
       "    <tr>\n",
       "      <th>(25, 30]</th>\n",
       "      <td>0.018585</td>\n",
       "      <td>0.731150</td>\n",
       "      <td>646.0</td>\n",
       "      <td>14400.0</td>\n",
       "      <td>34759.0</td>\n",
       "      <td>19695.0</td>\n",
       "    </tr>\n",
       "    <tr>\n",
       "      <th>(30, 35]</th>\n",
       "      <td>0.015894</td>\n",
       "      <td>0.664207</td>\n",
       "      <td>441.0</td>\n",
       "      <td>10893.0</td>\n",
       "      <td>27746.0</td>\n",
       "      <td>16400.0</td>\n",
       "    </tr>\n",
       "    <tr>\n",
       "      <th>(35, 40]</th>\n",
       "      <td>0.014524</td>\n",
       "      <td>0.642231</td>\n",
       "      <td>337.0</td>\n",
       "      <td>8936.0</td>\n",
       "      <td>23203.0</td>\n",
       "      <td>13914.0</td>\n",
       "    </tr>\n",
       "    <tr>\n",
       "      <th>(40, 45]</th>\n",
       "      <td>0.009645</td>\n",
       "      <td>0.603245</td>\n",
       "      <td>232.0</td>\n",
       "      <td>8960.0</td>\n",
       "      <td>24055.0</td>\n",
       "      <td>14853.0</td>\n",
       "    </tr>\n",
       "    <tr>\n",
       "      <th>(45, 50]</th>\n",
       "      <td>0.009584</td>\n",
       "      <td>0.559694</td>\n",
       "      <td>231.0</td>\n",
       "      <td>8565.0</td>\n",
       "      <td>24103.0</td>\n",
       "      <td>15303.0</td>\n",
       "    </tr>\n",
       "    <tr>\n",
       "      <th>(50, 55]</th>\n",
       "      <td>0.005596</td>\n",
       "      <td>0.522925</td>\n",
       "      <td>126.0</td>\n",
       "      <td>7687.0</td>\n",
       "      <td>22517.0</td>\n",
       "      <td>14700.0</td>\n",
       "    </tr>\n",
       "    <tr>\n",
       "      <th>(55, 60]</th>\n",
       "      <td>0.005085</td>\n",
       "      <td>0.459842</td>\n",
       "      <td>89.0</td>\n",
       "      <td>5485.0</td>\n",
       "      <td>17502.0</td>\n",
       "      <td>11928.0</td>\n",
       "    </tr>\n",
       "    <tr>\n",
       "      <th>(60, 65]</th>\n",
       "      <td>0.002797</td>\n",
       "      <td>0.426155</td>\n",
       "      <td>35.0</td>\n",
       "      <td>3728.0</td>\n",
       "      <td>12514.0</td>\n",
       "      <td>8748.0</td>\n",
       "    </tr>\n",
       "  </tbody>\n",
       "</table>\n",
       "</div>"
      ],
      "text/plain": [
       "            arrest_rate  citation_per_warning  n_arrests  n_citations  \\\n",
       "driver_age                                                              \n",
       "(15, 20]       0.011452              0.758811      314.0      11691.0   \n",
       "(20, 25]       0.016730              0.779758      724.0      18637.0   \n",
       "(25, 30]       0.018585              0.731150      646.0      14400.0   \n",
       "(30, 35]       0.015894              0.664207      441.0      10893.0   \n",
       "(35, 40]       0.014524              0.642231      337.0       8936.0   \n",
       "(40, 45]       0.009645              0.603245      232.0       8960.0   \n",
       "(45, 50]       0.009584              0.559694      231.0       8565.0   \n",
       "(50, 55]       0.005596              0.522925      126.0       7687.0   \n",
       "(55, 60]       0.005085              0.459842       89.0       5485.0   \n",
       "(60, 65]       0.002797              0.426155       35.0       3728.0   \n",
       "\n",
       "            n_total  n_warnings  \n",
       "driver_age                       \n",
       "(15, 20]    27418.0     15407.0  \n",
       "(20, 25]    43275.0     23901.0  \n",
       "(25, 30]    34759.0     19695.0  \n",
       "(30, 35]    27746.0     16400.0  \n",
       "(35, 40]    23203.0     13914.0  \n",
       "(40, 45]    24055.0     14853.0  \n",
       "(45, 50]    24103.0     15303.0  \n",
       "(50, 55]    22517.0     14700.0  \n",
       "(55, 60]    17502.0     11928.0  \n",
       "(60, 65]    12514.0      8748.0  "
      ]
     },
     "execution_count": 29,
     "metadata": {},
     "output_type": "execute_result"
    }
   ],
   "source": [
    "data.groupby(age_groups).apply(compute_outcome_stats)"
   ]
  },
  {
   "cell_type": "markdown",
   "metadata": {},
   "source": [
    "# Search stats by Race and Location"
   ]
  },
  {
   "cell_type": "code",
   "execution_count": 55,
   "metadata": {},
   "outputs": [
    {
     "data": {
      "text/html": [
       "<div>\n",
       "<style scoped>\n",
       "    .dataframe tbody tr th:only-of-type {\n",
       "        vertical-align: middle;\n",
       "    }\n",
       "\n",
       "    .dataframe tbody tr th {\n",
       "        vertical-align: top;\n",
       "    }\n",
       "\n",
       "    .dataframe thead th {\n",
       "        text-align: right;\n",
       "    }\n",
       "</style>\n",
       "<table border=\"1\" class=\"dataframe\">\n",
       "  <thead>\n",
       "    <tr style=\"text-align: right;\">\n",
       "      <th></th>\n",
       "      <th>county_fips</th>\n",
       "      <th>driver_race</th>\n",
       "      <th>hit_rate</th>\n",
       "      <th>n_hits</th>\n",
       "      <th>n_searches</th>\n",
       "      <th>n_stops</th>\n",
       "      <th>search_rate</th>\n",
       "    </tr>\n",
       "  </thead>\n",
       "  <tbody>\n",
       "    <tr>\n",
       "      <th>1</th>\n",
       "      <td>50001.0</td>\n",
       "      <td>Black</td>\n",
       "      <td>0.562500</td>\n",
       "      <td>9.0</td>\n",
       "      <td>16.0</td>\n",
       "      <td>333.0</td>\n",
       "      <td>0.048048</td>\n",
       "    </tr>\n",
       "    <tr>\n",
       "      <th>3</th>\n",
       "      <td>50001.0</td>\n",
       "      <td>White</td>\n",
       "      <td>0.791045</td>\n",
       "      <td>265.0</td>\n",
       "      <td>335.0</td>\n",
       "      <td>22065.0</td>\n",
       "      <td>0.015182</td>\n",
       "    </tr>\n",
       "    <tr>\n",
       "      <th>5</th>\n",
       "      <td>50003.0</td>\n",
       "      <td>Black</td>\n",
       "      <td>0.703704</td>\n",
       "      <td>19.0</td>\n",
       "      <td>27.0</td>\n",
       "      <td>382.0</td>\n",
       "      <td>0.070681</td>\n",
       "    </tr>\n",
       "    <tr>\n",
       "      <th>7</th>\n",
       "      <td>50003.0</td>\n",
       "      <td>White</td>\n",
       "      <td>0.859712</td>\n",
       "      <td>239.0</td>\n",
       "      <td>278.0</td>\n",
       "      <td>21495.0</td>\n",
       "      <td>0.012933</td>\n",
       "    </tr>\n",
       "    <tr>\n",
       "      <th>11</th>\n",
       "      <td>50005.0</td>\n",
       "      <td>White</td>\n",
       "      <td>0.815217</td>\n",
       "      <td>75.0</td>\n",
       "      <td>92.0</td>\n",
       "      <td>16055.0</td>\n",
       "      <td>0.005730</td>\n",
       "    </tr>\n",
       "    <tr>\n",
       "      <th>13</th>\n",
       "      <td>50007.0</td>\n",
       "      <td>Black</td>\n",
       "      <td>0.684211</td>\n",
       "      <td>13.0</td>\n",
       "      <td>19.0</td>\n",
       "      <td>650.0</td>\n",
       "      <td>0.029231</td>\n",
       "    </tr>\n",
       "    <tr>\n",
       "      <th>14</th>\n",
       "      <td>50007.0</td>\n",
       "      <td>Hispanic</td>\n",
       "      <td>0.571429</td>\n",
       "      <td>4.0</td>\n",
       "      <td>7.0</td>\n",
       "      <td>238.0</td>\n",
       "      <td>0.029412</td>\n",
       "    </tr>\n",
       "    <tr>\n",
       "      <th>15</th>\n",
       "      <td>50007.0</td>\n",
       "      <td>White</td>\n",
       "      <td>0.844262</td>\n",
       "      <td>206.0</td>\n",
       "      <td>244.0</td>\n",
       "      <td>23488.0</td>\n",
       "      <td>0.010388</td>\n",
       "    </tr>\n",
       "    <tr>\n",
       "      <th>21</th>\n",
       "      <td>50011.0</td>\n",
       "      <td>Black</td>\n",
       "      <td>0.714286</td>\n",
       "      <td>5.0</td>\n",
       "      <td>7.0</td>\n",
       "      <td>297.0</td>\n",
       "      <td>0.023569</td>\n",
       "    </tr>\n",
       "    <tr>\n",
       "      <th>23</th>\n",
       "      <td>50011.0</td>\n",
       "      <td>White</td>\n",
       "      <td>0.772947</td>\n",
       "      <td>160.0</td>\n",
       "      <td>207.0</td>\n",
       "      <td>19148.0</td>\n",
       "      <td>0.010811</td>\n",
       "    </tr>\n",
       "    <tr>\n",
       "      <th>27</th>\n",
       "      <td>50013.0</td>\n",
       "      <td>White</td>\n",
       "      <td>0.600000</td>\n",
       "      <td>6.0</td>\n",
       "      <td>10.0</td>\n",
       "      <td>507.0</td>\n",
       "      <td>0.019724</td>\n",
       "    </tr>\n",
       "    <tr>\n",
       "      <th>29</th>\n",
       "      <td>50015.0</td>\n",
       "      <td>Black</td>\n",
       "      <td>0.571429</td>\n",
       "      <td>4.0</td>\n",
       "      <td>7.0</td>\n",
       "      <td>87.0</td>\n",
       "      <td>0.080460</td>\n",
       "    </tr>\n",
       "    <tr>\n",
       "      <th>31</th>\n",
       "      <td>50015.0</td>\n",
       "      <td>White</td>\n",
       "      <td>0.744395</td>\n",
       "      <td>166.0</td>\n",
       "      <td>223.0</td>\n",
       "      <td>8446.0</td>\n",
       "      <td>0.026403</td>\n",
       "    </tr>\n",
       "    <tr>\n",
       "      <th>33</th>\n",
       "      <td>50017.0</td>\n",
       "      <td>Black</td>\n",
       "      <td>0.727273</td>\n",
       "      <td>8.0</td>\n",
       "      <td>11.0</td>\n",
       "      <td>436.0</td>\n",
       "      <td>0.025229</td>\n",
       "    </tr>\n",
       "    <tr>\n",
       "      <th>34</th>\n",
       "      <td>50017.0</td>\n",
       "      <td>Hispanic</td>\n",
       "      <td>0.500000</td>\n",
       "      <td>3.0</td>\n",
       "      <td>6.0</td>\n",
       "      <td>244.0</td>\n",
       "      <td>0.024590</td>\n",
       "    </tr>\n",
       "    <tr>\n",
       "      <th>35</th>\n",
       "      <td>50017.0</td>\n",
       "      <td>White</td>\n",
       "      <td>0.801170</td>\n",
       "      <td>137.0</td>\n",
       "      <td>171.0</td>\n",
       "      <td>23651.0</td>\n",
       "      <td>0.007230</td>\n",
       "    </tr>\n",
       "    <tr>\n",
       "      <th>39</th>\n",
       "      <td>50019.0</td>\n",
       "      <td>White</td>\n",
       "      <td>0.846154</td>\n",
       "      <td>11.0</td>\n",
       "      <td>13.0</td>\n",
       "      <td>10154.0</td>\n",
       "      <td>0.001280</td>\n",
       "    </tr>\n",
       "    <tr>\n",
       "      <th>41</th>\n",
       "      <td>50021.0</td>\n",
       "      <td>Black</td>\n",
       "      <td>0.782609</td>\n",
       "      <td>18.0</td>\n",
       "      <td>23.0</td>\n",
       "      <td>405.0</td>\n",
       "      <td>0.056790</td>\n",
       "    </tr>\n",
       "    <tr>\n",
       "      <th>43</th>\n",
       "      <td>50021.0</td>\n",
       "      <td>White</td>\n",
       "      <td>0.800000</td>\n",
       "      <td>148.0</td>\n",
       "      <td>185.0</td>\n",
       "      <td>22158.0</td>\n",
       "      <td>0.008349</td>\n",
       "    </tr>\n",
       "    <tr>\n",
       "      <th>45</th>\n",
       "      <td>50023.0</td>\n",
       "      <td>Black</td>\n",
       "      <td>0.700000</td>\n",
       "      <td>7.0</td>\n",
       "      <td>10.0</td>\n",
       "      <td>552.0</td>\n",
       "      <td>0.018116</td>\n",
       "    </tr>\n",
       "    <tr>\n",
       "      <th>46</th>\n",
       "      <td>50023.0</td>\n",
       "      <td>Hispanic</td>\n",
       "      <td>0.166667</td>\n",
       "      <td>1.0</td>\n",
       "      <td>6.0</td>\n",
       "      <td>259.0</td>\n",
       "      <td>0.023166</td>\n",
       "    </tr>\n",
       "    <tr>\n",
       "      <th>47</th>\n",
       "      <td>50023.0</td>\n",
       "      <td>White</td>\n",
       "      <td>0.827273</td>\n",
       "      <td>182.0</td>\n",
       "      <td>220.0</td>\n",
       "      <td>23393.0</td>\n",
       "      <td>0.009405</td>\n",
       "    </tr>\n",
       "    <tr>\n",
       "      <th>48</th>\n",
       "      <td>50025.0</td>\n",
       "      <td>Asian</td>\n",
       "      <td>1.000000</td>\n",
       "      <td>10.0</td>\n",
       "      <td>10.0</td>\n",
       "      <td>761.0</td>\n",
       "      <td>0.013141</td>\n",
       "    </tr>\n",
       "    <tr>\n",
       "      <th>49</th>\n",
       "      <td>50025.0</td>\n",
       "      <td>Black</td>\n",
       "      <td>0.717949</td>\n",
       "      <td>84.0</td>\n",
       "      <td>117.0</td>\n",
       "      <td>1164.0</td>\n",
       "      <td>0.100515</td>\n",
       "    </tr>\n",
       "    <tr>\n",
       "      <th>50</th>\n",
       "      <td>50025.0</td>\n",
       "      <td>Hispanic</td>\n",
       "      <td>0.685185</td>\n",
       "      <td>37.0</td>\n",
       "      <td>54.0</td>\n",
       "      <td>643.0</td>\n",
       "      <td>0.083981</td>\n",
       "    </tr>\n",
       "    <tr>\n",
       "      <th>51</th>\n",
       "      <td>50025.0</td>\n",
       "      <td>White</td>\n",
       "      <td>0.839858</td>\n",
       "      <td>472.0</td>\n",
       "      <td>562.0</td>\n",
       "      <td>35126.0</td>\n",
       "      <td>0.016000</td>\n",
       "    </tr>\n",
       "    <tr>\n",
       "      <th>53</th>\n",
       "      <td>50027.0</td>\n",
       "      <td>Black</td>\n",
       "      <td>0.577778</td>\n",
       "      <td>26.0</td>\n",
       "      <td>45.0</td>\n",
       "      <td>974.0</td>\n",
       "      <td>0.046201</td>\n",
       "    </tr>\n",
       "    <tr>\n",
       "      <th>54</th>\n",
       "      <td>50027.0</td>\n",
       "      <td>Hispanic</td>\n",
       "      <td>0.695652</td>\n",
       "      <td>16.0</td>\n",
       "      <td>23.0</td>\n",
       "      <td>376.0</td>\n",
       "      <td>0.061170</td>\n",
       "    </tr>\n",
       "    <tr>\n",
       "      <th>55</th>\n",
       "      <td>50027.0</td>\n",
       "      <td>White</td>\n",
       "      <td>0.816949</td>\n",
       "      <td>241.0</td>\n",
       "      <td>295.0</td>\n",
       "      <td>34431.0</td>\n",
       "      <td>0.008568</td>\n",
       "    </tr>\n",
       "  </tbody>\n",
       "</table>\n",
       "</div>"
      ],
      "text/plain": [
       "    county_fips driver_race  hit_rate  n_hits  n_searches  n_stops  \\\n",
       "1       50001.0       Black  0.562500     9.0        16.0    333.0   \n",
       "3       50001.0       White  0.791045   265.0       335.0  22065.0   \n",
       "5       50003.0       Black  0.703704    19.0        27.0    382.0   \n",
       "7       50003.0       White  0.859712   239.0       278.0  21495.0   \n",
       "11      50005.0       White  0.815217    75.0        92.0  16055.0   \n",
       "13      50007.0       Black  0.684211    13.0        19.0    650.0   \n",
       "14      50007.0    Hispanic  0.571429     4.0         7.0    238.0   \n",
       "15      50007.0       White  0.844262   206.0       244.0  23488.0   \n",
       "21      50011.0       Black  0.714286     5.0         7.0    297.0   \n",
       "23      50011.0       White  0.772947   160.0       207.0  19148.0   \n",
       "27      50013.0       White  0.600000     6.0        10.0    507.0   \n",
       "29      50015.0       Black  0.571429     4.0         7.0     87.0   \n",
       "31      50015.0       White  0.744395   166.0       223.0   8446.0   \n",
       "33      50017.0       Black  0.727273     8.0        11.0    436.0   \n",
       "34      50017.0    Hispanic  0.500000     3.0         6.0    244.0   \n",
       "35      50017.0       White  0.801170   137.0       171.0  23651.0   \n",
       "39      50019.0       White  0.846154    11.0        13.0  10154.0   \n",
       "41      50021.0       Black  0.782609    18.0        23.0    405.0   \n",
       "43      50021.0       White  0.800000   148.0       185.0  22158.0   \n",
       "45      50023.0       Black  0.700000     7.0        10.0    552.0   \n",
       "46      50023.0    Hispanic  0.166667     1.0         6.0    259.0   \n",
       "47      50023.0       White  0.827273   182.0       220.0  23393.0   \n",
       "48      50025.0       Asian  1.000000    10.0        10.0    761.0   \n",
       "49      50025.0       Black  0.717949    84.0       117.0   1164.0   \n",
       "50      50025.0    Hispanic  0.685185    37.0        54.0    643.0   \n",
       "51      50025.0       White  0.839858   472.0       562.0  35126.0   \n",
       "53      50027.0       Black  0.577778    26.0        45.0    974.0   \n",
       "54      50027.0    Hispanic  0.695652    16.0        23.0    376.0   \n",
       "55      50027.0       White  0.816949   241.0       295.0  34431.0   \n",
       "\n",
       "    search_rate  \n",
       "1      0.048048  \n",
       "3      0.015182  \n",
       "5      0.070681  \n",
       "7      0.012933  \n",
       "11     0.005730  \n",
       "13     0.029231  \n",
       "14     0.029412  \n",
       "15     0.010388  \n",
       "21     0.023569  \n",
       "23     0.010811  \n",
       "27     0.019724  \n",
       "29     0.080460  \n",
       "31     0.026403  \n",
       "33     0.025229  \n",
       "34     0.024590  \n",
       "35     0.007230  \n",
       "39     0.001280  \n",
       "41     0.056790  \n",
       "43     0.008349  \n",
       "45     0.018116  \n",
       "46     0.023166  \n",
       "47     0.009405  \n",
       "48     0.013141  \n",
       "49     0.100515  \n",
       "50     0.083981  \n",
       "51     0.016000  \n",
       "53     0.046201  \n",
       "54     0.061170  \n",
       "55     0.008568  "
      ]
     },
     "execution_count": 55,
     "metadata": {},
     "output_type": "execute_result"
    }
   ],
   "source": [
    "data.groupby(['county_fips','driver_race']).apply(compute_search_stats).reset_index().dropna()"
   ]
  },
  {
   "cell_type": "code",
   "execution_count": 90,
   "metadata": {},
   "outputs": [
    {
     "data": {
      "text/html": [
       "<div>\n",
       "<style scoped>\n",
       "    .dataframe tbody tr th:only-of-type {\n",
       "        vertical-align: middle;\n",
       "    }\n",
       "\n",
       "    .dataframe tbody tr th {\n",
       "        vertical-align: top;\n",
       "    }\n",
       "\n",
       "    .dataframe thead th {\n",
       "        text-align: right;\n",
       "    }\n",
       "</style>\n",
       "<table border=\"1\" class=\"dataframe\">\n",
       "  <thead>\n",
       "    <tr style=\"text-align: right;\">\n",
       "      <th>driver_race</th>\n",
       "      <th>Asian</th>\n",
       "      <th>Black</th>\n",
       "      <th>Hispanic</th>\n",
       "      <th>White</th>\n",
       "    </tr>\n",
       "    <tr>\n",
       "      <th>county_fips</th>\n",
       "      <th></th>\n",
       "      <th></th>\n",
       "      <th></th>\n",
       "      <th></th>\n",
       "    </tr>\n",
       "  </thead>\n",
       "  <tbody>\n",
       "    <tr>\n",
       "      <th>50001.0</th>\n",
       "      <td>NaN</td>\n",
       "      <td>0.048048</td>\n",
       "      <td>NaN</td>\n",
       "      <td>0.015182</td>\n",
       "    </tr>\n",
       "    <tr>\n",
       "      <th>50003.0</th>\n",
       "      <td>NaN</td>\n",
       "      <td>0.070681</td>\n",
       "      <td>NaN</td>\n",
       "      <td>0.012933</td>\n",
       "    </tr>\n",
       "    <tr>\n",
       "      <th>50005.0</th>\n",
       "      <td>NaN</td>\n",
       "      <td>NaN</td>\n",
       "      <td>NaN</td>\n",
       "      <td>0.005730</td>\n",
       "    </tr>\n",
       "    <tr>\n",
       "      <th>50007.0</th>\n",
       "      <td>NaN</td>\n",
       "      <td>0.029231</td>\n",
       "      <td>0.029412</td>\n",
       "      <td>0.010388</td>\n",
       "    </tr>\n",
       "    <tr>\n",
       "      <th>50011.0</th>\n",
       "      <td>NaN</td>\n",
       "      <td>0.023569</td>\n",
       "      <td>NaN</td>\n",
       "      <td>0.010811</td>\n",
       "    </tr>\n",
       "    <tr>\n",
       "      <th>50013.0</th>\n",
       "      <td>NaN</td>\n",
       "      <td>NaN</td>\n",
       "      <td>NaN</td>\n",
       "      <td>0.019724</td>\n",
       "    </tr>\n",
       "    <tr>\n",
       "      <th>50015.0</th>\n",
       "      <td>NaN</td>\n",
       "      <td>0.080460</td>\n",
       "      <td>NaN</td>\n",
       "      <td>0.026403</td>\n",
       "    </tr>\n",
       "    <tr>\n",
       "      <th>50017.0</th>\n",
       "      <td>NaN</td>\n",
       "      <td>0.025229</td>\n",
       "      <td>0.024590</td>\n",
       "      <td>0.007230</td>\n",
       "    </tr>\n",
       "    <tr>\n",
       "      <th>50019.0</th>\n",
       "      <td>NaN</td>\n",
       "      <td>NaN</td>\n",
       "      <td>NaN</td>\n",
       "      <td>0.001280</td>\n",
       "    </tr>\n",
       "    <tr>\n",
       "      <th>50021.0</th>\n",
       "      <td>NaN</td>\n",
       "      <td>0.056790</td>\n",
       "      <td>NaN</td>\n",
       "      <td>0.008349</td>\n",
       "    </tr>\n",
       "    <tr>\n",
       "      <th>50023.0</th>\n",
       "      <td>NaN</td>\n",
       "      <td>0.018116</td>\n",
       "      <td>0.023166</td>\n",
       "      <td>0.009405</td>\n",
       "    </tr>\n",
       "    <tr>\n",
       "      <th>50025.0</th>\n",
       "      <td>0.013141</td>\n",
       "      <td>0.100515</td>\n",
       "      <td>0.083981</td>\n",
       "      <td>0.016000</td>\n",
       "    </tr>\n",
       "    <tr>\n",
       "      <th>50027.0</th>\n",
       "      <td>NaN</td>\n",
       "      <td>0.046201</td>\n",
       "      <td>0.061170</td>\n",
       "      <td>0.008568</td>\n",
       "    </tr>\n",
       "  </tbody>\n",
       "</table>\n",
       "</div>"
      ],
      "text/plain": [
       "driver_race     Asian     Black  Hispanic     White\n",
       "county_fips                                        \n",
       "50001.0           NaN  0.048048       NaN  0.015182\n",
       "50003.0           NaN  0.070681       NaN  0.012933\n",
       "50005.0           NaN       NaN       NaN  0.005730\n",
       "50007.0           NaN  0.029231  0.029412  0.010388\n",
       "50011.0           NaN  0.023569       NaN  0.010811\n",
       "50013.0           NaN       NaN       NaN  0.019724\n",
       "50015.0           NaN  0.080460       NaN  0.026403\n",
       "50017.0           NaN  0.025229  0.024590  0.007230\n",
       "50019.0           NaN       NaN       NaN  0.001280\n",
       "50021.0           NaN  0.056790       NaN  0.008349\n",
       "50023.0           NaN  0.018116  0.023166  0.009405\n",
       "50025.0      0.013141  0.100515  0.083981  0.016000\n",
       "50027.0           NaN  0.046201  0.061170  0.008568"
      ]
     },
     "execution_count": 90,
     "metadata": {},
     "output_type": "execute_result"
    }
   ],
   "source": [
    "race_location_agg = data.groupby(['county_fips','driver_race']).apply(compute_search_stats).reset_index().dropna()\n",
    "race_location_agg.pivot(index='county_fips',columns='driver_race',values='search_rate')"
   ]
  },
  {
   "cell_type": "code",
   "execution_count": 56,
   "metadata": {},
   "outputs": [],
   "source": [
    "def gene_comparison_scatter(df, ax, state, race, field, color):\n",
    "    race_location_agg = df.groupby(['county_fips','driver_race']).apply(compute_search_stats).reset_index().dropna()\n",
    "    race_location_agg = race_location_agg.pivot(index='county_fips',columns='driver_race',values=field)\n",
    "    ax = race_location_agg.plot.scatter(ax=ax, x='White', y=race, s=150, label=race,color=color)\n",
    "    return ax"
   ]
  },
  {
   "cell_type": "code",
   "execution_count": 57,
   "metadata": {},
   "outputs": [],
   "source": [
    "def format_scatter_chart(ax, state, field):\n",
    "    ax.set_xlabel('{} - white'.format(field))\n",
    "    ax.set_ylabel('{} - None-white'.format(field, race))\n",
    "    ax.set_title('{} by County - {}'.format(field, state))\n",
    "    lim = max(ax.get_xlim()[1], ax.get_ylim()[1])\n",
    "    ax.set_xlim(0,lim)\n",
    "    ax.set_ylim(0,lim)\n",
    "    diag_line, = ax.plot(ax.get_xlim(), ax.get_ylim(), ls='--', c='.3')\n",
    "    ax.legend()\n",
    "    return ax"
   ]
  },
  {
   "cell_type": "code",
   "execution_count": 58,
   "metadata": {},
   "outputs": [],
   "source": [
    "def generate_comparison_scatter(df, state):\n",
    "    fig, axes = plt.subplots(nrows=1, ncols=2, figsize = (20,8))\n",
    "    gene_comparison_scatter(df,axes[0],state,'Black','search_rate','red')\n",
    "    gene_comparison_scatter(df,axes[0],state,'Hispanic','search_rate','orange')\n",
    "    gene_comparison_scatter(df,axes[0],state,'Asian','search_rate','green')\n",
    "    format_scatter_chart(axes[0],state,'Search_rate')\n",
    "    \n",
    "#     generate_comparison_scatter(df,axes[1],state,'Black','hit_rate','red')\n",
    "    gene_comparison_scatter(df,axes[1],state,'Black','hit_rate','red')\n",
    "    gene_comparison_scatter(df,axes[1],state,'Hispanic','hit_rate','orange')\n",
    "    gene_comparison_scatter(df,axes[1],state,'Asian','hit_rate','green')\n",
    "    format_scatter_chart(axes[1],state,'Hit_rate')\n",
    "    \n",
    "    return fig"
   ]
  },
  {
   "cell_type": "code",
   "execution_count": 59,
   "metadata": {},
   "outputs": [
    {
     "data": {
      "image/png": "[encoded data removed]",
      "text/plain": [
       "<matplotlib.figure.Figure at 0x111900080>"
      ]
     },
     "metadata": {},
     "output_type": "display_data"
    }
   ],
   "source": [
    "fig = generate_comparison_scatter(data,'VT')"
   ]
  },
  {
   "cell_type": "markdown",
   "metadata": {},
   "source": [
    "The above figures show the search rate and hit rate of minority drivers compared with white drivers in each county. If all of the color dots are on the diagonal centered line, it would implicate the white drivers and non-white drivers are searched at the same rate and same standard evidence."
   ]
  },
  {
   "cell_type": "code",
   "execution_count": 60,
   "metadata": {},
   "outputs": [],
   "source": [
    "def generate_county_search_stats_scatter(df, state):\n",
    "    race_location_agg = df.groupby(['county_fips','driver_race']).apply(compute_search_stats)\n",
    "    colors = ['orange','red','green','blue']\n",
    "    fig, ax = plt.subplots(figsize=(20,8))\n",
    "    \n",
    "    for c, frame in race_location_agg.groupby(level='driver_race'):\n",
    "        ax.scatter(x=frame['hit_rate'],y=frame['search_rate'],s=150,label=c,color=colors.pop())\n",
    "    ax.legend(loc='upper_center', bbox_to_anchor=(0.5,1.2), ncol=4, fancybox=True)\n",
    "    ax.set_xlabel('Hit Rate')\n",
    "    ax.set_ylabel('Search Rate')\n",
    "    ax.set_title('Search Stats by County and Race - {}'.format(state))\n",
    "    return fig\n",
    "    "
   ]
  },
  {
   "cell_type": "code",
   "execution_count": 61,
   "metadata": {},
   "outputs": [
    {
     "name": "stderr",
     "output_type": "stream",
     "text": [
      "/Users/zhouyuan57/anaconda3/lib/python3.6/site-packages/matplotlib/legend.py:638: UserWarning: Unrecognized location \"upper_center\". Falling back on \"best\"; valid locations are\n",
      "\tbest\n",
      "\tupper right\n",
      "\tupper left\n",
      "\tlower left\n",
      "\tlower right\n",
      "\tright\n",
      "\tcenter left\n",
      "\tcenter right\n",
      "\tlower center\n",
      "\tupper center\n",
      "\tcenter\n",
      "\n",
      "  % (loc, '\\n\\t'.join(self.codes)))\n"
     ]
    },
    {
     "data": {
      "image/png": "[encoded data removed]",
      "text/plain": [
       "<matplotlib.figure.Figure at 0x1118f2438>"
      ]
     },
     "metadata": {},
     "output_type": "display_data"
    }
   ],
   "source": [
    "fig = generate_county_search_stats_scatter(data,\"VT\")"
   ]
  },
  {
   "cell_type": "code",
   "execution_count": 113,
   "metadata": {},
   "outputs": [],
   "source": [
    "fields = ['county_fips','driver_race','search_conducted','contraband_found']\n",
    "types = {'countraband_found': bool,\n",
    "         'county_fips': float,\n",
    "         'driver_race': 'category',\n",
    "         'search_conducted': bool\n",
    "        }\n",
    "\n",
    "def analyze_state_date(state):\n",
    "    df = pd.read_csv('./{}-clean.csv.gz'.format(state), compression='gzip', low_memory=False)\n",
    "    df\n",
    "    df.dropna(inplace=True)\n",
    "    \n",
    "    df = df[df['driver_race'] != 'Other']\n",
    "    \n",
    "    pop_list = []\n",
    "    for col in df.columns:\n",
    "        if col not in fields:\n",
    "            pop_list.append(col)\n",
    "    df = df['driver_race'].drop(pop_list,axis=1)\n",
    "            \n",
    "    search_scatters = generate_comparison_scatter(df,state)\n",
    "    \n",
    "    county_scatters = generate_county_search_stats_scatter(df,state)\n",
    "    \n",
    "    return df.groupby('driver_race').apply(compute_outcome_stats)"
   ]
  },
  {
   "cell_type": "code",
   "execution_count": null,
   "metadata": {},
   "outputs": [],
   "source": []
  }
 ],
 "metadata": {
  "kernelspec": {
   "display_name": "Python 3",
   "language": "python",
   "name": "python3"
  },
  "language_info": {
   "codemirror_mode": {
    "name": "ipython",
    "version": 3
   },
   "file_extension": ".py",
   "mimetype": "text/x-python",
   "name": "python",
   "nbconvert_exporter": "python",
   "pygments_lexer": "ipython3",
   "version": "3.6.4"
  }
 },
 "nbformat": 4,
 "nbformat_minor": 2
}
