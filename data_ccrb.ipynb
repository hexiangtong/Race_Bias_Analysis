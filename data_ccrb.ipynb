{
 "cells": [
  {
   "cell_type": "code",
   "execution_count": 2,
   "metadata": {},
   "outputs": [],
   "source": [
    "import numpy as np\n",
    "import pandas as pd\n",
    "import scipy.stats as stats\n",
    "import seaborn as sns\n",
    "import matplotlib.pyplot as plt\n",
    "%matplotlib inline"
   ]
  },
  {
   "cell_type": "code",
   "execution_count": 3,
   "metadata": {},
   "outputs": [
    {
     "name": "stderr",
     "output_type": "stream",
     "text": [
      "/Users/zhouyuan57/anaconda3/lib/python3.6/site-packages/IPython/core/interactiveshell.py:2728: DtypeWarning: Columns (0,4,5,6,7,8,9,10,12,13,14,15) have mixed types. Specify dtype option on import or set low_memory=False.\n",
      "  interactivity=interactivity, compiler=compiler, result=result)\n"
     ]
    }
   ],
   "source": [
    "data = pd.read_csv('./ccrb.csv', header = 0)"
   ]
  },
  {
   "cell_type": "code",
   "execution_count": 10,
   "metadata": {},
   "outputs": [
    {
     "data": {
      "text/html": [
       "<div>\n",
       "<style scoped>\n",
       "    .dataframe tbody tr th:only-of-type {\n",
       "        vertical-align: middle;\n",
       "    }\n",
       "\n",
       "    .dataframe tbody tr th {\n",
       "        vertical-align: top;\n",
       "    }\n",
       "\n",
       "    .dataframe thead th {\n",
       "        text-align: right;\n",
       "    }\n",
       "</style>\n",
       "<table border=\"1\" class=\"dataframe\">\n",
       "  <thead>\n",
       "    <tr style=\"text-align: right;\">\n",
       "      <th></th>\n",
       "      <th>DateStamp</th>\n",
       "      <th>UniqueComplaintId</th>\n",
       "      <th>Close Year</th>\n",
       "      <th>Received Year</th>\n",
       "      <th>Borough of Occurrence</th>\n",
       "      <th>Is Full Investigation</th>\n",
       "      <th>Complaint Has Video Evidence</th>\n",
       "      <th>Complaint Filed Mode</th>\n",
       "      <th>Complaint Filed Place</th>\n",
       "      <th>Complaint Contains Stop &amp; Frisk Allegations</th>\n",
       "      <th>Incident Location</th>\n",
       "      <th>Incident Year</th>\n",
       "      <th>Encounter Outcome</th>\n",
       "      <th>Reason For Initial Contact</th>\n",
       "      <th>Allegation FADO Type</th>\n",
       "      <th>Allegation Description</th>\n",
       "    </tr>\n",
       "  </thead>\n",
       "  <tbody>\n",
       "    <tr>\n",
       "      <th>0</th>\n",
       "      <td>02/07/2017</td>\n",
       "      <td>6.0</td>\n",
       "      <td>2006.0</td>\n",
       "      <td>2006.0</td>\n",
       "      <td>Brooklyn</td>\n",
       "      <td>False</td>\n",
       "      <td>False</td>\n",
       "      <td>Phone</td>\n",
       "      <td>IAB</td>\n",
       "      <td>False</td>\n",
       "      <td>Street/highway</td>\n",
       "      <td>2006.0</td>\n",
       "      <td>No Arrest or Summons</td>\n",
       "      <td>PD suspected C/V of violation/crime - street</td>\n",
       "      <td>Discourtesy</td>\n",
       "      <td>Action</td>\n",
       "    </tr>\n",
       "    <tr>\n",
       "      <th>1</th>\n",
       "      <td>02/07/2017</td>\n",
       "      <td>11.0</td>\n",
       "      <td>2006.0</td>\n",
       "      <td>2006.0</td>\n",
       "      <td>Bronx</td>\n",
       "      <td>False</td>\n",
       "      <td>False</td>\n",
       "      <td>Phone</td>\n",
       "      <td>IAB</td>\n",
       "      <td>False</td>\n",
       "      <td>Street/highway</td>\n",
       "      <td>2006.0</td>\n",
       "      <td>Arrest</td>\n",
       "      <td>Other</td>\n",
       "      <td>Force</td>\n",
       "      <td>Physical force</td>\n",
       "    </tr>\n",
       "    <tr>\n",
       "      <th>2</th>\n",
       "      <td>02/07/2017</td>\n",
       "      <td>20.0</td>\n",
       "      <td>2006.0</td>\n",
       "      <td>2005.0</td>\n",
       "      <td>Bronx</td>\n",
       "      <td>False</td>\n",
       "      <td>False</td>\n",
       "      <td>Call Processing System</td>\n",
       "      <td>CCRB</td>\n",
       "      <td>True</td>\n",
       "      <td>Street/highway</td>\n",
       "      <td>2005.0</td>\n",
       "      <td>No Arrest or Summons</td>\n",
       "      <td>Other</td>\n",
       "      <td>Abuse of Authority</td>\n",
       "      <td>Strip-searched</td>\n",
       "    </tr>\n",
       "    <tr>\n",
       "      <th>3</th>\n",
       "      <td>02/07/2017</td>\n",
       "      <td>20.0</td>\n",
       "      <td>2006.0</td>\n",
       "      <td>2005.0</td>\n",
       "      <td>Bronx</td>\n",
       "      <td>False</td>\n",
       "      <td>False</td>\n",
       "      <td>Call Processing System</td>\n",
       "      <td>CCRB</td>\n",
       "      <td>True</td>\n",
       "      <td>Street/highway</td>\n",
       "      <td>2005.0</td>\n",
       "      <td>No Arrest or Summons</td>\n",
       "      <td>Other</td>\n",
       "      <td>Abuse of Authority</td>\n",
       "      <td>Seizure of property</td>\n",
       "    </tr>\n",
       "    <tr>\n",
       "      <th>4</th>\n",
       "      <td>02/07/2017</td>\n",
       "      <td>20.0</td>\n",
       "      <td>2006.0</td>\n",
       "      <td>2005.0</td>\n",
       "      <td>Bronx</td>\n",
       "      <td>False</td>\n",
       "      <td>False</td>\n",
       "      <td>Call Processing System</td>\n",
       "      <td>CCRB</td>\n",
       "      <td>True</td>\n",
       "      <td>Street/highway</td>\n",
       "      <td>2005.0</td>\n",
       "      <td>No Arrest or Summons</td>\n",
       "      <td>Other</td>\n",
       "      <td>Abuse of Authority</td>\n",
       "      <td>Search (of person)</td>\n",
       "    </tr>\n",
       "  </tbody>\n",
       "</table>\n",
       "</div>"
      ],
      "text/plain": [
       "    DateStamp  UniqueComplaintId  Close Year  Received Year  \\\n",
       "0  02/07/2017                6.0      2006.0         2006.0   \n",
       "1  02/07/2017               11.0      2006.0         2006.0   \n",
       "2  02/07/2017               20.0      2006.0         2005.0   \n",
       "3  02/07/2017               20.0      2006.0         2005.0   \n",
       "4  02/07/2017               20.0      2006.0         2005.0   \n",
       "\n",
       "  Borough of Occurrence Is Full Investigation Complaint Has Video Evidence  \\\n",
       "0              Brooklyn                 False                        False   \n",
       "1                 Bronx                 False                        False   \n",
       "2                 Bronx                 False                        False   \n",
       "3                 Bronx                 False                        False   \n",
       "4                 Bronx                 False                        False   \n",
       "\n",
       "     Complaint Filed Mode Complaint Filed Place  \\\n",
       "0                   Phone                   IAB   \n",
       "1                   Phone                   IAB   \n",
       "2  Call Processing System                  CCRB   \n",
       "3  Call Processing System                  CCRB   \n",
       "4  Call Processing System                  CCRB   \n",
       "\n",
       "  Complaint Contains Stop & Frisk Allegations Incident Location  \\\n",
       "0                                       False    Street/highway   \n",
       "1                                       False    Street/highway   \n",
       "2                                        True    Street/highway   \n",
       "3                                        True    Street/highway   \n",
       "4                                        True    Street/highway   \n",
       "\n",
       "   Incident Year     Encounter Outcome  \\\n",
       "0         2006.0  No Arrest or Summons   \n",
       "1         2006.0                Arrest   \n",
       "2         2005.0  No Arrest or Summons   \n",
       "3         2005.0  No Arrest or Summons   \n",
       "4         2005.0  No Arrest or Summons   \n",
       "\n",
       "                     Reason For Initial Contact Allegation FADO Type  \\\n",
       "0  PD suspected C/V of violation/crime - street          Discourtesy   \n",
       "1                                         Other                Force   \n",
       "2                                         Other   Abuse of Authority   \n",
       "3                                         Other   Abuse of Authority   \n",
       "4                                         Other   Abuse of Authority   \n",
       "\n",
       "  Allegation Description  \n",
       "0                 Action  \n",
       "1         Physical force  \n",
       "2         Strip-searched  \n",
       "3    Seizure of property  \n",
       "4     Search (of person)  "
      ]
     },
     "execution_count": 10,
     "metadata": {},
     "output_type": "execute_result"
    }
   ],
   "source": [
    "data.head()"
   ]
  },
  {
   "cell_type": "code",
   "execution_count": 4,
   "metadata": {},
   "outputs": [
    {
     "name": "stdout",
     "output_type": "stream",
     "text": [
      "<class 'pandas.core.frame.DataFrame'>\n",
      "RangeIndex: 418083 entries, 0 to 418082\n",
      "Data columns (total 16 columns):\n",
      "DateStamp                                      206718 non-null object\n",
      "UniqueComplaintId                              206718 non-null float64\n",
      "Close Year                                     206718 non-null float64\n",
      "Received Year                                  206718 non-null float64\n",
      "Borough of Occurrence                          206216 non-null object\n",
      "Is Full Investigation                          206718 non-null object\n",
      "Complaint Has Video Evidence                   206718 non-null object\n",
      "Complaint Filed Mode                           206718 non-null object\n",
      "Complaint Filed Place                          206718 non-null object\n",
      "Complaint Contains Stop & Frisk Allegations    206718 non-null object\n",
      "Incident Location                              203349 non-null object\n",
      "Incident Year                                  206718 non-null float64\n",
      "Encounter Outcome                              206718 non-null object\n",
      "Reason For Initial Contact                     205840 non-null object\n",
      "Allegation FADO Type                           206715 non-null object\n",
      "Allegation Description                         206715 non-null object\n",
      "dtypes: float64(4), object(12)\n",
      "memory usage: 51.0+ MB\n"
     ]
    }
   ],
   "source": [
    "data.info()"
   ]
  },
  {
   "cell_type": "code",
   "execution_count": 25,
   "metadata": {},
   "outputs": [],
   "source": [
    "data.dropna(inplace=True)"
   ]
  },
  {
   "cell_type": "code",
   "execution_count": 27,
   "metadata": {},
   "outputs": [
    {
     "data": {
      "text/plain": [
       "68467"
      ]
     },
     "execution_count": 27,
     "metadata": {},
     "output_type": "execute_result"
    }
   ],
   "source": [
    "len(data['UniqueComplaintId'].unique())"
   ]
  },
  {
   "cell_type": "code",
   "execution_count": 28,
   "metadata": {},
   "outputs": [
    {
     "data": {
      "text/plain": [
       "Brooklyn         71580\n",
       "Bronx            49135\n",
       "Manhattan        41804\n",
       "Queens           30637\n",
       "Staten Island     9059\n",
       "Outside NYC        175\n",
       "Name: Borough of Occurrence, dtype: int64"
      ]
     },
     "execution_count": 28,
     "metadata": {},
     "output_type": "execute_result"
    }
   ],
   "source": [
    "data['Borough of Occurrence'].value_counts()"
   ]
  },
  {
   "cell_type": "code",
   "execution_count": 505,
   "metadata": {},
   "outputs": [
    {
     "name": "stdout",
     "output_type": "stream",
     "text": [
      "1068 772 844 589 149\n"
     ]
    }
   ],
   "source": [
    "num_comp_brooklyn = data[(data['Borough of Occurrence'] == 'Brooklyn')&(data['Incident Year'] == 2016)]['UniqueComplaintId'].unique()\n",
    "num_comp_bronx = data[(data['Borough of Occurrence'] == 'Bronx')&(data['Incident Year'] == 2016)]['UniqueComplaintId'].unique()\n",
    "num_comp_Manhattan = data[(data['Borough of Occurrence'] == 'Manhattan')&(data['Incident Year'] == 2016)]['UniqueComplaintId'].unique()\n",
    "num_comp_Queens = data[(data['Borough of Occurrence'] == 'Queens')&(data['Incident Year']== 2016)]['UniqueComplaintId'].unique()\n",
    "num_comp_StatenIsland = data[(data['Borough of Occurrence'] == 'Staten Island')&(data['Incident Year'] == 2016)]['UniqueComplaintId'].unique()\n",
    "print(len(num_comp_brooklyn), \n",
    "      len(num_comp_bronx), \n",
    "      len(num_comp_Manhattan), \n",
    "      len(num_comp_Queens), len(num_comp_StatenIsland))"
   ]
  },
  {
   "cell_type": "code",
   "execution_count": 530,
   "metadata": {},
   "outputs": [
    {
     "data": {
      "text/plain": [
       "23369"
      ]
     },
     "execution_count": 530,
     "metadata": {},
     "output_type": "execute_result"
    }
   ],
   "source": [
    "len(data[data['Borough of Occurrence'] == 'Brooklyn']['UniqueComplaintId'].unique())"
   ]
  },
  {
   "cell_type": "code",
   "execution_count": 553,
   "metadata": {},
   "outputs": [
    {
     "name": "stdout",
     "output_type": "stream",
     "text": [
      "0.3413177151\n"
     ]
    }
   ],
   "source": [
    "portion = float(23369) / 68467\n",
    "print(round(portion,10))"
   ]
  },
  {
   "cell_type": "code",
   "execution_count": 506,
   "metadata": {},
   "outputs": [
    {
     "name": "stdout",
     "output_type": "stream",
     "text": [
      "72.5957747628\n"
     ]
    }
   ],
   "source": [
    "# the Bronx highest number of complaints per capita, which is 15603/1471160 = 0.0108\n",
    "num_comp_bronx_capita = 100000 * float(1068)/1471160\n",
    "print(round(num_comp_bronx_capita,10))"
   ]
  },
  {
   "cell_type": "code",
   "execution_count": 32,
   "metadata": {},
   "outputs": [],
   "source": [
    "data['diff'] = data['Close Year'] - data['Received Year']"
   ]
  },
  {
   "cell_type": "code",
   "execution_count": 37,
   "metadata": {},
   "outputs": [
    {
     "data": {
      "text/plain": [
       "0.5874697366"
      ]
     },
     "execution_count": 37,
     "metadata": {},
     "output_type": "execute_result"
    }
   ],
   "source": [
    "round(data['diff'].mean(),10)"
   ]
  },
  {
   "cell_type": "code",
   "execution_count": 103,
   "metadata": {},
   "outputs": [],
   "source": [
    "s = data[['Complaint Contains Stop & Frisk Allegations', 'Incident Year']]"
   ]
  },
  {
   "cell_type": "code",
   "execution_count": 177,
   "metadata": {},
   "outputs": [],
   "source": [
    "y = s[s['Complaint Contains Stop & Frisk Allegations'] == True].groupby('Incident Year').count()"
   ]
  },
  {
   "cell_type": "code",
   "execution_count": 192,
   "metadata": {},
   "outputs": [
    {
     "data": {
      "text/html": [
       "<div>\n",
       "<style scoped>\n",
       "    .dataframe tbody tr th:only-of-type {\n",
       "        vertical-align: middle;\n",
       "    }\n",
       "\n",
       "    .dataframe tbody tr th {\n",
       "        vertical-align: top;\n",
       "    }\n",
       "\n",
       "    .dataframe thead th {\n",
       "        text-align: right;\n",
       "    }\n",
       "</style>\n",
       "<table border=\"1\" class=\"dataframe\">\n",
       "  <thead>\n",
       "    <tr style=\"text-align: right;\">\n",
       "      <th></th>\n",
       "      <th>Complaint Contains Stop &amp; Frisk Allegations</th>\n",
       "    </tr>\n",
       "    <tr>\n",
       "      <th>Incident Year</th>\n",
       "      <th></th>\n",
       "    </tr>\n",
       "  </thead>\n",
       "  <tbody>\n",
       "    <tr>\n",
       "      <th>1999.0</th>\n",
       "      <td>13</td>\n",
       "    </tr>\n",
       "    <tr>\n",
       "      <th>2002.0</th>\n",
       "      <td>11</td>\n",
       "    </tr>\n",
       "    <tr>\n",
       "      <th>2003.0</th>\n",
       "      <td>18</td>\n",
       "    </tr>\n",
       "    <tr>\n",
       "      <th>2004.0</th>\n",
       "      <td>420</td>\n",
       "    </tr>\n",
       "    <tr>\n",
       "      <th>2005.0</th>\n",
       "      <td>5739</td>\n",
       "    </tr>\n",
       "    <tr>\n",
       "      <th>2006.0</th>\n",
       "      <td>10561</td>\n",
       "    </tr>\n",
       "    <tr>\n",
       "      <th>2007.0</th>\n",
       "      <td>11418</td>\n",
       "    </tr>\n",
       "    <tr>\n",
       "      <th>2008.0</th>\n",
       "      <td>9263</td>\n",
       "    </tr>\n",
       "    <tr>\n",
       "      <th>2009.0</th>\n",
       "      <td>8741</td>\n",
       "    </tr>\n",
       "    <tr>\n",
       "      <th>2010.0</th>\n",
       "      <td>7052</td>\n",
       "    </tr>\n",
       "    <tr>\n",
       "      <th>2011.0</th>\n",
       "      <td>6559</td>\n",
       "    </tr>\n",
       "    <tr>\n",
       "      <th>2012.0</th>\n",
       "      <td>5969</td>\n",
       "    </tr>\n",
       "    <tr>\n",
       "      <th>2013.0</th>\n",
       "      <td>5397</td>\n",
       "    </tr>\n",
       "    <tr>\n",
       "      <th>2014.0</th>\n",
       "      <td>4374</td>\n",
       "    </tr>\n",
       "    <tr>\n",
       "      <th>2015.0</th>\n",
       "      <td>4310</td>\n",
       "    </tr>\n",
       "    <tr>\n",
       "      <th>2016.0</th>\n",
       "      <td>3418</td>\n",
       "    </tr>\n",
       "    <tr>\n",
       "      <th>2017.0</th>\n",
       "      <td>18</td>\n",
       "    </tr>\n",
       "  </tbody>\n",
       "</table>\n",
       "</div>"
      ],
      "text/plain": [
       "               Complaint Contains Stop & Frisk Allegations\n",
       "Incident Year                                             \n",
       "1999.0                                                  13\n",
       "2002.0                                                  11\n",
       "2003.0                                                  18\n",
       "2004.0                                                 420\n",
       "2005.0                                                5739\n",
       "2006.0                                               10561\n",
       "2007.0                                               11418\n",
       "2008.0                                                9263\n",
       "2009.0                                                8741\n",
       "2010.0                                                7052\n",
       "2011.0                                                6559\n",
       "2012.0                                                5969\n",
       "2013.0                                                5397\n",
       "2014.0                                                4374\n",
       "2015.0                                                4310\n",
       "2016.0                                                3418\n",
       "2017.0                                                  18"
      ]
     },
     "execution_count": 192,
     "metadata": {},
     "output_type": "execute_result"
    }
   ],
   "source": [
    "y"
   ]
  },
  {
   "cell_type": "code",
   "execution_count": 181,
   "metadata": {},
   "outputs": [],
   "source": [
    "y1 = np.asarray(y)"
   ]
  },
  {
   "cell_type": "code",
   "execution_count": 182,
   "metadata": {},
   "outputs": [
    {
     "data": {
      "text/plain": [
       "array([1999., 2002., 2003., 2004., 2005., 2006., 2007., 2008., 2009.,\n",
       "       2010., 2011., 2012., 2013., 2014., 2015., 2016., 2017.])"
      ]
     },
     "execution_count": 182,
     "metadata": {},
     "output_type": "execute_result"
    }
   ],
   "source": [
    "X = np.sort(s['Incident Year'].unique())\n",
    "X"
   ]
  },
  {
   "cell_type": "code",
   "execution_count": 185,
   "metadata": {},
   "outputs": [],
   "source": [
    "X1 = np.asarray(X).reshape(-1,1) "
   ]
  },
  {
   "cell_type": "code",
   "execution_count": 193,
   "metadata": {},
   "outputs": [
    {
     "data": {
      "text/plain": [
       "array([[5969.53632025]])"
      ]
     },
     "execution_count": 193,
     "metadata": {},
     "output_type": "execute_result"
    }
   ],
   "source": [
    "from sklearn.linear_model import LinearRegression\n",
    "\n",
    "# y = s['Complaint Contains Stop & Frisk Allegations']\n",
    "model = LinearRegression()\n",
    "model.fit(X1, y)\n",
    "model.predict([[2018]])"
   ]
  },
  {
   "cell_type": "code",
   "execution_count": 194,
   "metadata": {},
   "outputs": [
    {
     "data": {
      "text/plain": [
       "Index(['DateStamp', 'UniqueComplaintId', 'Close Year', 'Received Year',\n",
       "       'Borough of Occurrence', 'Is Full Investigation',\n",
       "       'Complaint Has Video Evidence', 'Complaint Filed Mode',\n",
       "       'Complaint Filed Place', 'Complaint Contains Stop & Frisk Allegations',\n",
       "       'Incident Location', 'Incident Year', 'Encounter Outcome',\n",
       "       'Reason For Initial Contact', 'Allegation FADO Type',\n",
       "       'Allegation Description', 'diff'],\n",
       "      dtype='object')"
      ]
     },
     "execution_count": 194,
     "metadata": {},
     "output_type": "execute_result"
    }
   ],
   "source": [
    "data.columns"
   ]
  },
  {
   "cell_type": "code",
   "execution_count": 237,
   "metadata": {},
   "outputs": [
    {
     "data": {
      "text/plain": [
       "DateStamp                                      7742\n",
       "UniqueComplaintId                              7742\n",
       "Close Year                                     7742\n",
       "Received Year                                  7742\n",
       "Borough of Occurrence                          7742\n",
       "Is Full Investigation                          7742\n",
       "Complaint Has Video Evidence                   7742\n",
       "Complaint Filed Mode                           7742\n",
       "Complaint Filed Place                          7742\n",
       "Complaint Contains Stop & Frisk Allegations    7742\n",
       "Incident Location                              7742\n",
       "Incident Year                                  7742\n",
       "Encounter Outcome                              7742\n",
       "Reason For Initial Contact                     7742\n",
       "Allegation FADO Type                           7742\n",
       "Allegation Description                         7742\n",
       "diff                                           7742\n",
       "dtype: int64"
      ]
     },
     "execution_count": 237,
     "metadata": {},
     "output_type": "execute_result"
    }
   ],
   "source": [
    "data[(data['Complaint Has Video Evidence'] == True) & (data['Is Full Investigation'] == True)].count()"
   ]
  },
  {
   "cell_type": "code",
   "execution_count": 238,
   "metadata": {},
   "outputs": [
    {
     "data": {
      "text/plain": [
       "DateStamp                                      1616\n",
       "UniqueComplaintId                              1616\n",
       "Close Year                                     1616\n",
       "Received Year                                  1616\n",
       "Borough of Occurrence                          1616\n",
       "Is Full Investigation                          1616\n",
       "Complaint Has Video Evidence                   1616\n",
       "Complaint Filed Mode                           1616\n",
       "Complaint Filed Place                          1616\n",
       "Complaint Contains Stop & Frisk Allegations    1616\n",
       "Incident Location                              1616\n",
       "Incident Year                                  1616\n",
       "Encounter Outcome                              1616\n",
       "Reason For Initial Contact                     1616\n",
       "Allegation FADO Type                           1616\n",
       "Allegation Description                         1616\n",
       "diff                                           1616\n",
       "dtype: int64"
      ]
     },
     "execution_count": 238,
     "metadata": {},
     "output_type": "execute_result"
    }
   ],
   "source": [
    "data[(data['Complaint Has Video Evidence'] == True) & (data['Is Full Investigation'] == False)].count()"
   ]
  },
  {
   "cell_type": "code",
   "execution_count": 259,
   "metadata": {},
   "outputs": [
    {
     "data": {
      "text/plain": [
       "False    119109\n",
       "True      83281\n",
       "Name: Complaint Contains Stop & Frisk Allegations, dtype: int64"
      ]
     },
     "execution_count": 259,
     "metadata": {},
     "output_type": "execute_result"
    }
   ],
   "source": [
    "data['Complaint Contains Stop & Frisk Allegations'].value_counts()"
   ]
  },
  {
   "cell_type": "code",
   "execution_count": 243,
   "metadata": {},
   "outputs": [
    {
     "data": {
      "text/plain": [
       "False    105392\n",
       "True      96998\n",
       "Name: Is Full Investigation, dtype: int64"
      ]
     },
     "execution_count": 243,
     "metadata": {},
     "output_type": "execute_result"
    }
   ],
   "source": [
    "data['Is Full Investigation'].value_counts()"
   ]
  },
  {
   "cell_type": "code",
   "execution_count": 254,
   "metadata": {},
   "outputs": [],
   "source": [
    "data1 = data[['Complaint Contains Stop & Frisk Allegations',\n",
    "      'Is Full Investigation', \n",
    "      'UniqueComplaintId']]"
   ]
  },
  {
   "cell_type": "code",
   "execution_count": 288,
   "metadata": {},
   "outputs": [
    {
     "ename": "AttributeError",
     "evalue": "Cannot access callable attribute 'reset_index' of 'SeriesGroupBy' objects, try using the 'apply' method",
     "output_type": "error",
     "traceback": [
      "\u001b[0;31m---------------------------------------------------------------------------\u001b[0m",
      "\u001b[0;31mAttributeError\u001b[0m                            Traceback (most recent call last)",
      "\u001b[0;32m<ipython-input-288-3362d58e7508>\u001b[0m in \u001b[0;36m<module>\u001b[0;34m()\u001b[0m\n\u001b[0;32m----> 1\u001b[0;31m \u001b[0mdata1\u001b[0m\u001b[0;34m.\u001b[0m\u001b[0mgroupby\u001b[0m\u001b[0;34m(\u001b[0m\u001b[0;34m'UniqueComplaintId'\u001b[0m\u001b[0;34m)\u001b[0m\u001b[0;34m[\u001b[0m\u001b[0;34m'Complaint Contains Stop & Frisk Allegations'\u001b[0m\u001b[0;34m]\u001b[0m\u001b[0;34m.\u001b[0m\u001b[0mreset_index\u001b[0m\u001b[0;34m(\u001b[0m\u001b[0;34m)\u001b[0m\u001b[0;34m\u001b[0m\u001b[0m\n\u001b[0m",
      "\u001b[0;32m~/anaconda3/lib/python3.6/site-packages/pandas/core/groupby.py\u001b[0m in \u001b[0;36m__getattr__\u001b[0;34m(self, attr)\u001b[0m\n\u001b[1;32m    671\u001b[0m             \u001b[0;32mreturn\u001b[0m \u001b[0mself\u001b[0m\u001b[0;34m[\u001b[0m\u001b[0mattr\u001b[0m\u001b[0;34m]\u001b[0m\u001b[0;34m\u001b[0m\u001b[0m\n\u001b[1;32m    672\u001b[0m         \u001b[0;32mif\u001b[0m \u001b[0mhasattr\u001b[0m\u001b[0;34m(\u001b[0m\u001b[0mself\u001b[0m\u001b[0;34m.\u001b[0m\u001b[0mobj\u001b[0m\u001b[0;34m,\u001b[0m \u001b[0mattr\u001b[0m\u001b[0;34m)\u001b[0m\u001b[0;34m:\u001b[0m\u001b[0;34m\u001b[0m\u001b[0m\n\u001b[0;32m--> 673\u001b[0;31m             \u001b[0;32mreturn\u001b[0m \u001b[0mself\u001b[0m\u001b[0;34m.\u001b[0m\u001b[0m_make_wrapper\u001b[0m\u001b[0;34m(\u001b[0m\u001b[0mattr\u001b[0m\u001b[0;34m)\u001b[0m\u001b[0;34m\u001b[0m\u001b[0m\n\u001b[0m\u001b[1;32m    674\u001b[0m \u001b[0;34m\u001b[0m\u001b[0m\n\u001b[1;32m    675\u001b[0m         raise AttributeError(\"%r object has no attribute %r\" %\n",
      "\u001b[0;32m~/anaconda3/lib/python3.6/site-packages/pandas/core/groupby.py\u001b[0m in \u001b[0;36m_make_wrapper\u001b[0;34m(self, name)\u001b[0m\n\u001b[1;32m    685\u001b[0m                    \"using the 'apply' method\".format(kind, name,\n\u001b[1;32m    686\u001b[0m                                                      type(self).__name__))\n\u001b[0;32m--> 687\u001b[0;31m             \u001b[0;32mraise\u001b[0m \u001b[0mAttributeError\u001b[0m\u001b[0;34m(\u001b[0m\u001b[0mmsg\u001b[0m\u001b[0;34m)\u001b[0m\u001b[0;34m\u001b[0m\u001b[0m\n\u001b[0m\u001b[1;32m    688\u001b[0m \u001b[0;34m\u001b[0m\u001b[0m\n\u001b[1;32m    689\u001b[0m         \u001b[0;31m# need to setup the selection\u001b[0m\u001b[0;34m\u001b[0m\u001b[0;34m\u001b[0m\u001b[0m\n",
      "\u001b[0;31mAttributeError\u001b[0m: Cannot access callable attribute 'reset_index' of 'SeriesGroupBy' objects, try using the 'apply' method"
     ]
    }
   ],
   "source": [
    "data1.groupby('UniqueComplaintId')['Complaint Contains Stop & Frisk Allegations'].reset_index()"
   ]
  },
  {
   "cell_type": "code",
   "execution_count": 3,
   "metadata": {},
   "outputs": [],
   "source": [
    "expected =  np.array([96998 + 83281,105393 + 119109])/(2*96998+2*105393) * [202390, 202390]"
   ]
  },
  {
   "cell_type": "code",
   "execution_count": 4,
   "metadata": {},
   "outputs": [
    {
     "name": "stdout",
     "output_type": "stream",
     "text": [
      "[ 90139.05462693 112250.44537554]\n"
     ]
    }
   ],
   "source": [
    "print(expected)"
   ]
  },
  {
   "cell_type": "code",
   "execution_count": 6,
   "metadata": {},
   "outputs": [],
   "source": [
    "observed = [96998,105393]"
   ]
  },
  {
   "cell_type": "code",
   "execution_count": 13,
   "metadata": {},
   "outputs": [],
   "source": [
    "chi_squared_stat = sum(((observed-expected)**2)/expected)"
   ]
  },
  {
   "cell_type": "code",
   "execution_count": 14,
   "metadata": {},
   "outputs": [
    {
     "data": {
      "text/plain": [
       "940.842645391708"
      ]
     },
     "execution_count": 14,
     "metadata": {},
     "output_type": "execute_result"
    }
   ],
   "source": [
    "chi_squared_stat"
   ]
  },
  {
   "cell_type": "code",
   "execution_count": 15,
   "metadata": {},
   "outputs": [
    {
     "name": "stdout",
     "output_type": "stream",
     "text": [
      "Critical value\n",
      "3.8414588206941236\n",
      "P value\n",
      "0.0\n"
     ]
    }
   ],
   "source": [
    "import scipy.stats as stats\n",
    "crit = stats.chi2.ppf(q = 0.95, # Find the critical value for 95% confidence*\n",
    "                      df = 1)   # Df = number of variable categories - 1\n",
    "\n",
    "print(\"Critical value\")\n",
    "print(crit)\n",
    "\n",
    "p_value = 1 - stats.chi2.cdf(x=chi_squared_stat,  # Find the p-value\n",
    "                             df=1)\n",
    "print(\"P value\")\n",
    "print(p_value)"
   ]
  },
  {
   "cell_type": "code",
   "execution_count": 16,
   "metadata": {},
   "outputs": [
    {
     "data": {
      "text/plain": [
       "Power_divergenceResult(statistic=940.842645391708, pvalue=1.2981849393432105e-206)"
      ]
     },
     "execution_count": 16,
     "metadata": {},
     "output_type": "execute_result"
    }
   ],
   "source": [
    "stats.chisquare(f_obs= observed,   # Array of observed counts\n",
    "                f_exp= expected)"
   ]
  },
  {
   "cell_type": "code",
   "execution_count": 349,
   "metadata": {},
   "outputs": [
    {
     "data": {
      "text/plain": [
       "Index(['DateStamp', 'UniqueComplaintId', 'Close Year', 'Received Year',\n",
       "       'Borough of Occurrence', 'Is Full Investigation',\n",
       "       'Complaint Has Video Evidence', 'Complaint Filed Mode',\n",
       "       'Complaint Filed Place', 'Complaint Contains Stop & Frisk Allegations',\n",
       "       'Incident Location', 'Incident Year', 'Encounter Outcome',\n",
       "       'Reason For Initial Contact', 'Allegation FADO Type',\n",
       "       'Allegation Description', 'diff'],\n",
       "      dtype='object')"
      ]
     },
     "execution_count": 349,
     "metadata": {},
     "output_type": "execute_result"
    }
   ],
   "source": [
    "data.columns"
   ]
  },
  {
   "cell_type": "code",
   "execution_count": 353,
   "metadata": {},
   "outputs": [
    {
     "data": {
      "text/html": [
       "<div>\n",
       "<style scoped>\n",
       "    .dataframe tbody tr th:only-of-type {\n",
       "        vertical-align: middle;\n",
       "    }\n",
       "\n",
       "    .dataframe tbody tr th {\n",
       "        vertical-align: top;\n",
       "    }\n",
       "\n",
       "    .dataframe thead th {\n",
       "        text-align: right;\n",
       "    }\n",
       "</style>\n",
       "<table border=\"1\" class=\"dataframe\">\n",
       "  <thead>\n",
       "    <tr style=\"text-align: right;\">\n",
       "      <th></th>\n",
       "      <th>DateStamp</th>\n",
       "      <th>UniqueComplaintId</th>\n",
       "      <th>Close Year</th>\n",
       "      <th>Received Year</th>\n",
       "      <th>Borough of Occurrence</th>\n",
       "      <th>Is Full Investigation</th>\n",
       "      <th>Complaint Has Video Evidence</th>\n",
       "      <th>Complaint Filed Mode</th>\n",
       "      <th>Complaint Filed Place</th>\n",
       "      <th>Complaint Contains Stop &amp; Frisk Allegations</th>\n",
       "      <th>Incident Location</th>\n",
       "      <th>Incident Year</th>\n",
       "      <th>Encounter Outcome</th>\n",
       "      <th>Reason For Initial Contact</th>\n",
       "      <th>Allegation FADO Type</th>\n",
       "      <th>Allegation Description</th>\n",
       "      <th>diff</th>\n",
       "    </tr>\n",
       "  </thead>\n",
       "  <tbody>\n",
       "    <tr>\n",
       "      <th>0</th>\n",
       "      <td>02/07/2017</td>\n",
       "      <td>6.0</td>\n",
       "      <td>2006.0</td>\n",
       "      <td>2006.0</td>\n",
       "      <td>Brooklyn</td>\n",
       "      <td>False</td>\n",
       "      <td>False</td>\n",
       "      <td>Phone</td>\n",
       "      <td>IAB</td>\n",
       "      <td>False</td>\n",
       "      <td>Street/highway</td>\n",
       "      <td>2006.0</td>\n",
       "      <td>No Arrest or Summons</td>\n",
       "      <td>PD suspected C/V of violation/crime - street</td>\n",
       "      <td>Discourtesy</td>\n",
       "      <td>Action</td>\n",
       "      <td>0.0</td>\n",
       "    </tr>\n",
       "    <tr>\n",
       "      <th>1</th>\n",
       "      <td>02/07/2017</td>\n",
       "      <td>11.0</td>\n",
       "      <td>2006.0</td>\n",
       "      <td>2006.0</td>\n",
       "      <td>Bronx</td>\n",
       "      <td>False</td>\n",
       "      <td>False</td>\n",
       "      <td>Phone</td>\n",
       "      <td>IAB</td>\n",
       "      <td>False</td>\n",
       "      <td>Street/highway</td>\n",
       "      <td>2006.0</td>\n",
       "      <td>Arrest</td>\n",
       "      <td>Other</td>\n",
       "      <td>Force</td>\n",
       "      <td>Physical force</td>\n",
       "      <td>0.0</td>\n",
       "    </tr>\n",
       "    <tr>\n",
       "      <th>2</th>\n",
       "      <td>02/07/2017</td>\n",
       "      <td>20.0</td>\n",
       "      <td>2006.0</td>\n",
       "      <td>2005.0</td>\n",
       "      <td>Bronx</td>\n",
       "      <td>False</td>\n",
       "      <td>False</td>\n",
       "      <td>Call Processing System</td>\n",
       "      <td>CCRB</td>\n",
       "      <td>True</td>\n",
       "      <td>Street/highway</td>\n",
       "      <td>2005.0</td>\n",
       "      <td>No Arrest or Summons</td>\n",
       "      <td>Other</td>\n",
       "      <td>Abuse of Authority</td>\n",
       "      <td>Strip-searched</td>\n",
       "      <td>1.0</td>\n",
       "    </tr>\n",
       "    <tr>\n",
       "      <th>3</th>\n",
       "      <td>02/07/2017</td>\n",
       "      <td>20.0</td>\n",
       "      <td>2006.0</td>\n",
       "      <td>2005.0</td>\n",
       "      <td>Bronx</td>\n",
       "      <td>False</td>\n",
       "      <td>False</td>\n",
       "      <td>Call Processing System</td>\n",
       "      <td>CCRB</td>\n",
       "      <td>True</td>\n",
       "      <td>Street/highway</td>\n",
       "      <td>2005.0</td>\n",
       "      <td>No Arrest or Summons</td>\n",
       "      <td>Other</td>\n",
       "      <td>Abuse of Authority</td>\n",
       "      <td>Seizure of property</td>\n",
       "      <td>1.0</td>\n",
       "    </tr>\n",
       "    <tr>\n",
       "      <th>4</th>\n",
       "      <td>02/07/2017</td>\n",
       "      <td>20.0</td>\n",
       "      <td>2006.0</td>\n",
       "      <td>2005.0</td>\n",
       "      <td>Bronx</td>\n",
       "      <td>False</td>\n",
       "      <td>False</td>\n",
       "      <td>Call Processing System</td>\n",
       "      <td>CCRB</td>\n",
       "      <td>True</td>\n",
       "      <td>Street/highway</td>\n",
       "      <td>2005.0</td>\n",
       "      <td>No Arrest or Summons</td>\n",
       "      <td>Other</td>\n",
       "      <td>Abuse of Authority</td>\n",
       "      <td>Search (of person)</td>\n",
       "      <td>1.0</td>\n",
       "    </tr>\n",
       "  </tbody>\n",
       "</table>\n",
       "</div>"
      ],
      "text/plain": [
       "    DateStamp  UniqueComplaintId  Close Year  Received Year  \\\n",
       "0  02/07/2017                6.0      2006.0         2006.0   \n",
       "1  02/07/2017               11.0      2006.0         2006.0   \n",
       "2  02/07/2017               20.0      2006.0         2005.0   \n",
       "3  02/07/2017               20.0      2006.0         2005.0   \n",
       "4  02/07/2017               20.0      2006.0         2005.0   \n",
       "\n",
       "  Borough of Occurrence Is Full Investigation Complaint Has Video Evidence  \\\n",
       "0              Brooklyn                 False                        False   \n",
       "1                 Bronx                 False                        False   \n",
       "2                 Bronx                 False                        False   \n",
       "3                 Bronx                 False                        False   \n",
       "4                 Bronx                 False                        False   \n",
       "\n",
       "     Complaint Filed Mode Complaint Filed Place  \\\n",
       "0                   Phone                   IAB   \n",
       "1                   Phone                   IAB   \n",
       "2  Call Processing System                  CCRB   \n",
       "3  Call Processing System                  CCRB   \n",
       "4  Call Processing System                  CCRB   \n",
       "\n",
       "  Complaint Contains Stop & Frisk Allegations Incident Location  \\\n",
       "0                                       False    Street/highway   \n",
       "1                                       False    Street/highway   \n",
       "2                                        True    Street/highway   \n",
       "3                                        True    Street/highway   \n",
       "4                                        True    Street/highway   \n",
       "\n",
       "   Incident Year     Encounter Outcome  \\\n",
       "0         2006.0  No Arrest or Summons   \n",
       "1         2006.0                Arrest   \n",
       "2         2005.0  No Arrest or Summons   \n",
       "3         2005.0  No Arrest or Summons   \n",
       "4         2005.0  No Arrest or Summons   \n",
       "\n",
       "                     Reason For Initial Contact Allegation FADO Type  \\\n",
       "0  PD suspected C/V of violation/crime - street          Discourtesy   \n",
       "1                                         Other                Force   \n",
       "2                                         Other   Abuse of Authority   \n",
       "3                                         Other   Abuse of Authority   \n",
       "4                                         Other   Abuse of Authority   \n",
       "\n",
       "  Allegation Description  diff  \n",
       "0                 Action   0.0  \n",
       "1         Physical force   0.0  \n",
       "2         Strip-searched   1.0  \n",
       "3    Seizure of property   1.0  \n",
       "4     Search (of person)   1.0  "
      ]
     },
     "execution_count": 353,
     "metadata": {},
     "output_type": "execute_result"
    }
   ],
   "source": [
    "data.head()"
   ]
  },
  {
   "cell_type": "code",
   "execution_count": 352,
   "metadata": {
    "scrolled": true
   },
   "outputs": [
    {
     "data": {
      "text/plain": [
       "Abuse of Authority    101058\n",
       "Force                  61291\n",
       "Discourtesy            34080\n",
       "Offensive Language      5961\n",
       "Name: Allegation FADO Type, dtype: int64"
      ]
     },
     "execution_count": 352,
     "metadata": {},
     "output_type": "execute_result"
    }
   ],
   "source": [
    " data['Allegation FADO Type'].value_counts()"
   ]
  },
  {
   "cell_type": "code",
   "execution_count": 431,
   "metadata": {},
   "outputs": [
    {
     "data": {
      "text/plain": [
       "<pandas.core.groupby.DataFrameGroupBy object at 0x1a3de010f0>"
      ]
     },
     "execution_count": 431,
     "metadata": {},
     "output_type": "execute_result"
    }
   ],
   "source": [
    "data.groupby(['UniqueComplaintId', 'Allegation FADO Type'])"
   ]
  },
  {
   "cell_type": "code",
   "execution_count": 440,
   "metadata": {},
   "outputs": [
    {
     "data": {
      "text/plain": [
       "61291"
      ]
     },
     "execution_count": 440,
     "metadata": {},
     "output_type": "execute_result"
    }
   ],
   "source": [
    "len(data[data['Allegation FADO Type'] == 'Force'])"
   ]
  },
  {
   "cell_type": "code",
   "execution_count": 441,
   "metadata": {},
   "outputs": [],
   "source": [
    "def compute_outcome_stats(df):\n",
    "    n_total = len(df)\n",
    "    n_abuse_authority = len(df[df['Allegation FADO Type'] == 'Abuse of Authority'])\n",
    "    n_force = len(df[df['Allegation FADO Type'] == 'Force'])\n",
    "    n_discourtesy = len(df[df['Allegation FADO Type'] == 'Discourtesy'])\n",
    "    n_offensive = len(df[df['Allegation FADO Type'] == 'Offensive Language'])\n",
    "#     citation_per_warning = n_citations / n_warnings\n",
    "#     arrest_rate = n_arrests / n_total\n",
    "    return pd.Series(data={'n_abuse_authority':n_abuse_authority, \n",
    "                              'n_force':n_force,\n",
    "                              'n_discourtesy':n_discourtesy, \n",
    "                              'n_offensive': n_offensive})"
   ]
  },
  {
   "cell_type": "code",
   "execution_count": 448,
   "metadata": {},
   "outputs": [
    {
     "name": "stderr",
     "output_type": "stream",
     "text": [
      "/Users/zhouyuan57/anaconda3/lib/python3.6/site-packages/IPython/core/interactiveshell.py:2728: DtypeWarning: Columns (0,4,5,6,7,8,9,10,12,13,14,15) have mixed types. Specify dtype option on import or set low_memory=False.\n",
      "  interactivity=interactivity, compiler=compiler, result=result)\n"
     ]
    }
   ],
   "source": [
    "df = pd.read_csv('./ccrb.csv', header = 0)"
   ]
  },
  {
   "cell_type": "code",
   "execution_count": 462,
   "metadata": {},
   "outputs": [
    {
     "data": {
      "text/plain": [
       "(10370, 2)"
      ]
     },
     "execution_count": 462,
     "metadata": {},
     "output_type": "execute_result"
    }
   ],
   "source": [
    "df1.shape"
   ]
  },
  {
   "cell_type": "code",
   "execution_count": 470,
   "metadata": {},
   "outputs": [
    {
     "name": "stdout",
     "output_type": "stream",
     "text": [
      "1102 792 862 601 156\n"
     ]
    }
   ],
   "source": [
    "num_comp_brooklyn = df[(df['Borough of Occurrence'] == 'Brooklyn')&(df['Incident Year'] == 2016)]['UniqueComplaintId'].unique()\n",
    "num_comp_bronx = df[(df['Borough of Occurrence'] == 'Bronx')&(df['Incident Year'] == 2016)]['UniqueComplaintId'].unique()\n",
    "num_comp_Manhattan = df[(df['Borough of Occurrence'] == 'Manhattan')&(df['Incident Year'] == 2016)]['UniqueComplaintId'].unique()\n",
    "num_comp_Queens = df[(df['Borough of Occurrence'] == 'Queens')&(df['Incident Year']== 2016)]['UniqueComplaintId'].unique()\n",
    "num_comp_StatenIsland = df[(df['Borough of Occurrence'] == 'Staten Island')&(df['Incident Year'] == 2016)]['UniqueComplaintId'].unique()\n",
    "print(len(num_comp_brooklyn), \n",
    "      len(num_comp_bronx), \n",
    "      len(num_comp_Manhattan), \n",
    "      len(num_comp_Queens), len(num_comp_StatenIsland))"
   ]
  },
  {
   "cell_type": "code",
   "execution_count": 474,
   "metadata": {
    "scrolled": true
   },
   "outputs": [
    {
     "name": "stdout",
     "output_type": "stream",
     "text": [
      "[0.00041604200589631944, 0.0005383506892520188, 0.0005178026186876286, 0.0002548141213661429, 0.0003253673940157428]\n"
     ]
    }
   ],
   "source": [
    "police_num = [float(1102)/2648771, float(792)/1471160, float(862)/1664727, float(601)/2358582, float(156)/479458] \n",
    "print(police_num)"
   ]
  },
  {
   "cell_type": "code",
   "execution_count": 493,
   "metadata": {},
   "outputs": [],
   "source": [
    "police_rate = 36000 * np.array([2648771,1471160,1664727,2358582,479458])/8622698"
   ]
  },
  {
   "cell_type": "code",
   "execution_count": 498,
   "metadata": {},
   "outputs": [
    {
     "name": "stdout",
     "output_type": "stream",
     "text": [
      "[11058.69137479  6142.1332395   6950.28075899  9847.14436247\n",
      "  2001.75026424]\n"
     ]
    }
   ],
   "source": [
    "print(police_rate)"
   ]
  },
  {
   "cell_type": "code",
   "execution_count": 500,
   "metadata": {},
   "outputs": [],
   "source": [
    "officer_per_capita = np.array(police_num) * police_rate"
   ]
  },
  {
   "cell_type": "code",
   "execution_count": 499,
   "metadata": {},
   "outputs": [],
   "source": [
    "precinct_manhatton = 28\n",
    "precinct_bronx = 12\n",
    "precinct_brooklyn = 23\n",
    "precinct_Queens = 16\n",
    "precinct_staten = 4\n",
    "num_precinct = np.array([23, 12, 28, 16, 4])"
   ]
  },
  {
   "cell_type": "code",
   "execution_count": 501,
   "metadata": {},
   "outputs": [],
   "source": [
    "ratio = officer_per_capita / num_precinct"
   ]
  },
  {
   "cell_type": "code",
   "execution_count": 504,
   "metadata": {},
   "outputs": [
    {
     "name": "stdout",
     "output_type": "stream",
     "text": [
      "2.1438515081\n"
     ]
    }
   ],
   "source": [
    "print(round(max(ratio)/min(ratio),10))"
   ]
  },
  {
   "cell_type": "code",
   "execution_count": null,
   "metadata": {},
   "outputs": [],
   "source": []
  }
 ],
 "metadata": {
  "kernelspec": {
   "display_name": "Python 3",
   "language": "python",
   "name": "python3"
  },
  "language_info": {
   "codemirror_mode": {
    "name": "ipython",
    "version": 3
   },
   "file_extension": ".py",
   "mimetype": "text/x-python",
   "name": "python",
   "nbconvert_exporter": "python",
   "pygments_lexer": "ipython3",
   "version": "3.6.4"
  }
 },
 "nbformat": 4,
 "nbformat_minor": 2
}
